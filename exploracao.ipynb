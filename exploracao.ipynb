{
 "cells": [
  {
   "cell_type": "code",
   "execution_count": 2,
   "id": "4e4b7943",
   "metadata": {},
   "outputs": [],
   "source": [
    "import pandas as pd"
   ]
  },
  {
   "cell_type": "code",
   "execution_count": 3,
   "id": "8dabe106",
   "metadata": {},
   "outputs": [],
   "source": [
    "url = 'data/df_t.csv'"
   ]
  },
  {
   "cell_type": "code",
   "execution_count": 4,
   "id": "bf514944",
   "metadata": {},
   "outputs": [],
   "source": [
    "dados = pd.read_csv(url)"
   ]
  },
  {
   "cell_type": "code",
   "execution_count": 5,
   "id": "c1a79806",
   "metadata": {},
   "outputs": [
    {
     "name": "stdout",
     "output_type": "stream",
     "text": [
      "<class 'pandas.core.frame.DataFrame'>\n",
      "RangeIndex: 1741344 entries, 0 to 1741343\n",
      "Data columns (total 12 columns):\n",
      " #   Column                          Dtype  \n",
      "---  ------                          -----  \n",
      " 0   nk_ota_localizer_id             object \n",
      " 1   fk_contact                      object \n",
      " 2   date_purchase                   object \n",
      " 3   time_purchase                   object \n",
      " 4   place_origin_departure          object \n",
      " 5   place_destination_departure     object \n",
      " 6   place_origin_return             object \n",
      " 7   place_destination_return        object \n",
      " 8   fk_departure_ota_bus_company    object \n",
      " 9   fk_return_ota_bus_company       object \n",
      " 10  gmv_success                     float64\n",
      " 11  total_tickets_quantity_success  int64  \n",
      "dtypes: float64(1), int64(1), object(10)\n",
      "memory usage: 159.4+ MB\n"
     ]
    }
   ],
   "source": [
    "dados.info()"
   ]
  },
  {
   "cell_type": "code",
   "execution_count": 6,
   "id": "d3ac06ff",
   "metadata": {},
   "outputs": [
    {
     "data": {
      "text/plain": [
       "(1741344, 12)"
      ]
     },
     "execution_count": 6,
     "metadata": {},
     "output_type": "execute_result"
    }
   ],
   "source": [
    "dados.shape"
   ]
  },
  {
   "cell_type": "code",
   "execution_count": null,
   "id": "0b2ea05e",
   "metadata": {},
   "outputs": [
    {
     "data": {
      "text/html": [
       "<div>\n",
       "<style scoped>\n",
       "    .dataframe tbody tr th:only-of-type {\n",
       "        vertical-align: middle;\n",
       "    }\n",
       "\n",
       "    .dataframe tbody tr th {\n",
       "        vertical-align: top;\n",
       "    }\n",
       "\n",
       "    .dataframe thead th {\n",
       "        text-align: right;\n",
       "    }\n",
       "</style>\n",
       "<table border=\"1\" class=\"dataframe\">\n",
       "  <thead>\n",
       "    <tr style=\"text-align: right;\">\n",
       "      <th></th>\n",
       "      <th>nk_ota_localizer_id</th>\n",
       "      <th>fk_contact</th>\n",
       "      <th>date_purchase</th>\n",
       "      <th>time_purchase</th>\n",
       "      <th>place_origin_departure</th>\n",
       "      <th>place_destination_departure</th>\n",
       "      <th>place_origin_return</th>\n",
       "      <th>place_destination_return</th>\n",
       "      <th>fk_departure_ota_bus_company</th>\n",
       "      <th>fk_return_ota_bus_company</th>\n",
       "      <th>gmv_success</th>\n",
       "      <th>total_tickets_quantity_success</th>\n",
       "    </tr>\n",
       "  </thead>\n",
       "  <tbody>\n",
       "    <tr>\n",
       "      <th>0</th>\n",
       "      <td>bc02d5245bec63b30ff1102fa273fc03f58bc9cc3f674e...</td>\n",
       "      <td>a7218ff4ee7d37d48d2b4391b955627cb089870b934912...</td>\n",
       "      <td>2018-12-26</td>\n",
       "      <td>15:33:35</td>\n",
       "      <td>6b86b273ff34fce19d6b804eff5a3f5747ada4eaa22f1d...</td>\n",
       "      <td>50e9a8665b62c8d68bccc77c7c92431a1aa26ccbd38ed4...</td>\n",
       "      <td>0</td>\n",
       "      <td>0</td>\n",
       "      <td>8527a891e224136950ff32ca212b45bc93f69fbb801c3b...</td>\n",
       "      <td>1</td>\n",
       "      <td>89.09</td>\n",
       "      <td>1</td>\n",
       "    </tr>\n",
       "    <tr>\n",
       "      <th>1</th>\n",
       "      <td>5432f12612dd5d749b3be880e779989cf63b5efa4bcc4e...</td>\n",
       "      <td>37228485e0dc83d84d1bcd1bef3dc632301bf6cb22c8b5...</td>\n",
       "      <td>2018-12-05</td>\n",
       "      <td>15:07:57</td>\n",
       "      <td>10e4e7caf8b078429bb1c80b1a10118ac6f963eff098fd...</td>\n",
       "      <td>e6d41d208672a4e50b86d959f4a6254975e6fb9b088116...</td>\n",
       "      <td>0</td>\n",
       "      <td>0</td>\n",
       "      <td>36ebe205bcdfc499a25e6923f4450fa8d48196ceb4fa0c...</td>\n",
       "      <td>1</td>\n",
       "      <td>155.97</td>\n",
       "      <td>1</td>\n",
       "    </tr>\n",
       "    <tr>\n",
       "      <th>2</th>\n",
       "      <td>fb3caed9b2f1b6016d45ccddb19095476e61a2c85faa8e...</td>\n",
       "      <td>3467ec081e2421e72c96e7203b929d21927fd00b6b5f28...</td>\n",
       "      <td>2018-12-21</td>\n",
       "      <td>18:41:54</td>\n",
       "      <td>7688b6ef52555962d008fff894223582c484517cea7da4...</td>\n",
       "      <td>8c1f1046219ddd216a023f792356ddf127fce372a72ec9...</td>\n",
       "      <td>0</td>\n",
       "      <td>0</td>\n",
       "      <td>ec2e990b934dde55cb87300629cedfc21b15cd28bbcf77...</td>\n",
       "      <td>1</td>\n",
       "      <td>121.99</td>\n",
       "      <td>1</td>\n",
       "    </tr>\n",
       "    <tr>\n",
       "      <th>3</th>\n",
       "      <td>4dc44a6dd592b702feccb493d192210c86965aee684529...</td>\n",
       "      <td>ab3251a2be0f69713b8f97b0e9d1579e31551f4fd4facf...</td>\n",
       "      <td>2018-12-06</td>\n",
       "      <td>14:01:38</td>\n",
       "      <td>4e07408562bedb8b60ce05c1decfe3ad16b72230967de0...</td>\n",
       "      <td>d6acb3c1a79e57bcc03d976cb4d98f56edccd4cf426392...</td>\n",
       "      <td>0</td>\n",
       "      <td>0</td>\n",
       "      <td>5f9c4ab08cac7457e9111a30e4664920607ea2c115a143...</td>\n",
       "      <td>1</td>\n",
       "      <td>55.22</td>\n",
       "      <td>1</td>\n",
       "    </tr>\n",
       "    <tr>\n",
       "      <th>4</th>\n",
       "      <td>aa34ed7fd0a6b405df2df1bf9f8d68e6df9b9a868a6181...</td>\n",
       "      <td>ceea0de820a6379f2c4215bddaec66c33994b304607e56...</td>\n",
       "      <td>2021-02-23</td>\n",
       "      <td>20:08:25</td>\n",
       "      <td>7688b6ef52555962d008fff894223582c484517cea7da4...</td>\n",
       "      <td>23765fc69c4e3c0b10f5d15471dc2245e2a19af16b513f...</td>\n",
       "      <td>0</td>\n",
       "      <td>0</td>\n",
       "      <td>48449a14a4ff7d79bb7a1b6f3d488eba397c36ef25634c...</td>\n",
       "      <td>1</td>\n",
       "      <td>45.31</td>\n",
       "      <td>1</td>\n",
       "    </tr>\n",
       "  </tbody>\n",
       "</table>\n",
       "</div>"
      ],
      "text/plain": [
       "                                 nk_ota_localizer_id  \\\n",
       "0  bc02d5245bec63b30ff1102fa273fc03f58bc9cc3f674e...   \n",
       "1  5432f12612dd5d749b3be880e779989cf63b5efa4bcc4e...   \n",
       "2  fb3caed9b2f1b6016d45ccddb19095476e61a2c85faa8e...   \n",
       "3  4dc44a6dd592b702feccb493d192210c86965aee684529...   \n",
       "4  aa34ed7fd0a6b405df2df1bf9f8d68e6df9b9a868a6181...   \n",
       "\n",
       "                                          fk_contact date_purchase  \\\n",
       "0  a7218ff4ee7d37d48d2b4391b955627cb089870b934912...    2018-12-26   \n",
       "1  37228485e0dc83d84d1bcd1bef3dc632301bf6cb22c8b5...    2018-12-05   \n",
       "2  3467ec081e2421e72c96e7203b929d21927fd00b6b5f28...    2018-12-21   \n",
       "3  ab3251a2be0f69713b8f97b0e9d1579e31551f4fd4facf...    2018-12-06   \n",
       "4  ceea0de820a6379f2c4215bddaec66c33994b304607e56...    2021-02-23   \n",
       "\n",
       "  time_purchase                             place_origin_departure  \\\n",
       "0      15:33:35  6b86b273ff34fce19d6b804eff5a3f5747ada4eaa22f1d...   \n",
       "1      15:07:57  10e4e7caf8b078429bb1c80b1a10118ac6f963eff098fd...   \n",
       "2      18:41:54  7688b6ef52555962d008fff894223582c484517cea7da4...   \n",
       "3      14:01:38  4e07408562bedb8b60ce05c1decfe3ad16b72230967de0...   \n",
       "4      20:08:25  7688b6ef52555962d008fff894223582c484517cea7da4...   \n",
       "\n",
       "                         place_destination_departure place_origin_return  \\\n",
       "0  50e9a8665b62c8d68bccc77c7c92431a1aa26ccbd38ed4...                   0   \n",
       "1  e6d41d208672a4e50b86d959f4a6254975e6fb9b088116...                   0   \n",
       "2  8c1f1046219ddd216a023f792356ddf127fce372a72ec9...                   0   \n",
       "3  d6acb3c1a79e57bcc03d976cb4d98f56edccd4cf426392...                   0   \n",
       "4  23765fc69c4e3c0b10f5d15471dc2245e2a19af16b513f...                   0   \n",
       "\n",
       "  place_destination_return                       fk_departure_ota_bus_company  \\\n",
       "0                        0  8527a891e224136950ff32ca212b45bc93f69fbb801c3b...   \n",
       "1                        0  36ebe205bcdfc499a25e6923f4450fa8d48196ceb4fa0c...   \n",
       "2                        0  ec2e990b934dde55cb87300629cedfc21b15cd28bbcf77...   \n",
       "3                        0  5f9c4ab08cac7457e9111a30e4664920607ea2c115a143...   \n",
       "4                        0  48449a14a4ff7d79bb7a1b6f3d488eba397c36ef25634c...   \n",
       "\n",
       "  fk_return_ota_bus_company  gmv_success  total_tickets_quantity_success  \n",
       "0                         1        89.09                               1  \n",
       "1                         1       155.97                               1  \n",
       "2                         1       121.99                               1  \n",
       "3                         1        55.22                               1  \n",
       "4                         1        45.31                               1  "
      ]
     },
     "execution_count": 7,
     "metadata": {},
     "output_type": "execute_result"
    }
   ],
   "source": [
    "dados.head()"
   ]
  },
  {
   "cell_type": "code",
   "execution_count": 8,
   "id": "bf606aa2",
   "metadata": {},
   "outputs": [],
   "source": [
    "dados['date_purchase'] = pd.to_datetime(dados['date_purchase'])"
   ]
  },
  {
   "cell_type": "code",
   "execution_count": 9,
   "id": "91daf865",
   "metadata": {},
   "outputs": [
    {
     "name": "stdout",
     "output_type": "stream",
     "text": [
      "<class 'pandas.core.frame.DataFrame'>\n",
      "RangeIndex: 1741344 entries, 0 to 1741343\n",
      "Data columns (total 12 columns):\n",
      " #   Column                          Dtype         \n",
      "---  ------                          -----         \n",
      " 0   nk_ota_localizer_id             object        \n",
      " 1   fk_contact                      object        \n",
      " 2   date_purchase                   datetime64[ns]\n",
      " 3   time_purchase                   object        \n",
      " 4   place_origin_departure          object        \n",
      " 5   place_destination_departure     object        \n",
      " 6   place_origin_return             object        \n",
      " 7   place_destination_return        object        \n",
      " 8   fk_departure_ota_bus_company    object        \n",
      " 9   fk_return_ota_bus_company       object        \n",
      " 10  gmv_success                     float64       \n",
      " 11  total_tickets_quantity_success  int64         \n",
      "dtypes: datetime64[ns](1), float64(1), int64(1), object(9)\n",
      "memory usage: 159.4+ MB\n"
     ]
    }
   ],
   "source": [
    "dados.info()"
   ]
  },
  {
   "cell_type": "code",
   "execution_count": 10,
   "id": "6c4a50c1",
   "metadata": {},
   "outputs": [],
   "source": [
    "dados['day_of_week'] = dados['date_purchase'].dt.day_of_week"
   ]
  },
  {
   "cell_type": "code",
   "execution_count": 11,
   "id": "5aa68e96",
   "metadata": {},
   "outputs": [],
   "source": [
    "mapa_dias = {\n",
    "    0: 'segunda-feira', 1: 'terça-feira', 2: 'quarta-feira',\n",
    "    3: 'quinta-feira', 4: 'sexta-feira', 5: 'sábado', 6: 'domingo'\n",
    "}"
   ]
  },
  {
   "cell_type": "code",
   "execution_count": 12,
   "id": "bae1bd67",
   "metadata": {},
   "outputs": [],
   "source": [
    "dias = dados.groupby('day_of_week')"
   ]
  },
  {
   "cell_type": "code",
   "execution_count": 13,
   "id": "6ab670e1",
   "metadata": {},
   "outputs": [
    {
     "data": {
      "text/html": [
       "<div>\n",
       "<style scoped>\n",
       "    .dataframe tbody tr th:only-of-type {\n",
       "        vertical-align: middle;\n",
       "    }\n",
       "\n",
       "    .dataframe tbody tr th {\n",
       "        vertical-align: top;\n",
       "    }\n",
       "\n",
       "    .dataframe thead th {\n",
       "        text-align: right;\n",
       "    }\n",
       "</style>\n",
       "<table border=\"1\" class=\"dataframe\">\n",
       "  <thead>\n",
       "    <tr style=\"text-align: right;\">\n",
       "      <th></th>\n",
       "      <th>day_of_week</th>\n",
       "      <th>numero_de_registros</th>\n",
       "    </tr>\n",
       "  </thead>\n",
       "  <tbody>\n",
       "    <tr>\n",
       "      <th>0</th>\n",
       "      <td>0</td>\n",
       "      <td>246772</td>\n",
       "    </tr>\n",
       "    <tr>\n",
       "      <th>1</th>\n",
       "      <td>1</td>\n",
       "      <td>235591</td>\n",
       "    </tr>\n",
       "    <tr>\n",
       "      <th>2</th>\n",
       "      <td>2</td>\n",
       "      <td>245771</td>\n",
       "    </tr>\n",
       "    <tr>\n",
       "      <th>3</th>\n",
       "      <td>3</td>\n",
       "      <td>268979</td>\n",
       "    </tr>\n",
       "    <tr>\n",
       "      <th>4</th>\n",
       "      <td>4</td>\n",
       "      <td>282752</td>\n",
       "    </tr>\n",
       "    <tr>\n",
       "      <th>5</th>\n",
       "      <td>5</td>\n",
       "      <td>211524</td>\n",
       "    </tr>\n",
       "    <tr>\n",
       "      <th>6</th>\n",
       "      <td>6</td>\n",
       "      <td>249955</td>\n",
       "    </tr>\n",
       "  </tbody>\n",
       "</table>\n",
       "</div>"
      ],
      "text/plain": [
       "   day_of_week  numero_de_registros\n",
       "0            0               246772\n",
       "1            1               235591\n",
       "2            2               245771\n",
       "3            3               268979\n",
       "4            4               282752\n",
       "5            5               211524\n",
       "6            6               249955"
      ]
     },
     "execution_count": 13,
     "metadata": {},
     "output_type": "execute_result"
    }
   ],
   "source": [
    "contagem_por_dia = dados.groupby('day_of_week').size().reset_index(name='numero_de_registros')\n",
    "contagem_por_dia \n"
   ]
  },
  {
   "cell_type": "code",
   "execution_count": 14,
   "id": "4d69b2c7",
   "metadata": {},
   "outputs": [],
   "source": [
    "\n",
    "# 1. Extrai o número do dia da semana (Segunda=0, Domingo=6)\n",
    "dados['dia_da_semana_num'] = dados['date_purchase'].dt.dayofweek\n",
    "\n",
    "# 2. Mapeia os números para os nomes dos dias em português para evitar erros de 'locale'\n",
    "mapa_dias = {\n",
    "    0: 'segunda-feira',\n",
    "    1: 'terça-feira',\n",
    "    2: 'quarta-feira',\n",
    "    3: 'quinta-feira',\n",
    "    4: 'sexta-feira',\n",
    "    5: 'sábado',\n",
    "    6: 'domingo'\n",
    "}\n",
    "dados['dia_da_semana'] = dados['dia_da_semana_num'].map(mapa_dias)\n",
    "\n",
    "# 3. Agrupa pelo dia da semana, conta os registros e nomeia a coluna de contagem\n",
    "contagem_por_dia = dados.groupby('dia_da_semana').size().reset_index(name='numero_de_registros')\n",
    "\n",
    "# 4. Opcional: Ordena o resultado para uma visualização lógica\n",
    "dias_ordenados = [ 'domingo','segunda-feira', 'terça-feira', 'quarta-feira', 'quinta-feira', 'sexta-feira', 'sábado',]\n",
    "contagem_por_dia['dia_da_semana'] = pd.Categorical(contagem_por_dia['dia_da_semana'], categories=dias_ordenados, ordered=True)\n",
    "contagem_por_dia = contagem_por_dia.sort_values('dia_da_semana')"
   ]
  },
  {
   "cell_type": "markdown",
   "id": "0431c40c",
   "metadata": {},
   "source": [
    "Exibe o DataFrame final com a contagem por dia da semana"
   ]
  },
  {
   "cell_type": "code",
   "execution_count": 15,
   "id": "f6a64509",
   "metadata": {},
   "outputs": [
    {
     "data": {
      "text/html": [
       "<div>\n",
       "<style scoped>\n",
       "    .dataframe tbody tr th:only-of-type {\n",
       "        vertical-align: middle;\n",
       "    }\n",
       "\n",
       "    .dataframe tbody tr th {\n",
       "        vertical-align: top;\n",
       "    }\n",
       "\n",
       "    .dataframe thead th {\n",
       "        text-align: right;\n",
       "    }\n",
       "</style>\n",
       "<table border=\"1\" class=\"dataframe\">\n",
       "  <thead>\n",
       "    <tr style=\"text-align: right;\">\n",
       "      <th></th>\n",
       "      <th>dia_da_semana</th>\n",
       "      <th>numero_de_registros</th>\n",
       "    </tr>\n",
       "  </thead>\n",
       "  <tbody>\n",
       "    <tr>\n",
       "      <th>0</th>\n",
       "      <td>domingo</td>\n",
       "      <td>249955</td>\n",
       "    </tr>\n",
       "    <tr>\n",
       "      <th>3</th>\n",
       "      <td>segunda-feira</td>\n",
       "      <td>246772</td>\n",
       "    </tr>\n",
       "    <tr>\n",
       "      <th>6</th>\n",
       "      <td>terça-feira</td>\n",
       "      <td>235591</td>\n",
       "    </tr>\n",
       "    <tr>\n",
       "      <th>1</th>\n",
       "      <td>quarta-feira</td>\n",
       "      <td>245771</td>\n",
       "    </tr>\n",
       "    <tr>\n",
       "      <th>2</th>\n",
       "      <td>quinta-feira</td>\n",
       "      <td>268979</td>\n",
       "    </tr>\n",
       "    <tr>\n",
       "      <th>4</th>\n",
       "      <td>sexta-feira</td>\n",
       "      <td>282752</td>\n",
       "    </tr>\n",
       "    <tr>\n",
       "      <th>5</th>\n",
       "      <td>sábado</td>\n",
       "      <td>211524</td>\n",
       "    </tr>\n",
       "  </tbody>\n",
       "</table>\n",
       "</div>"
      ],
      "text/plain": [
       "   dia_da_semana  numero_de_registros\n",
       "0        domingo               249955\n",
       "3  segunda-feira               246772\n",
       "6    terça-feira               235591\n",
       "1   quarta-feira               245771\n",
       "2   quinta-feira               268979\n",
       "4    sexta-feira               282752\n",
       "5         sábado               211524"
      ]
     },
     "execution_count": 15,
     "metadata": {},
     "output_type": "execute_result"
    }
   ],
   "source": [
    "contagem_por_dia"
   ]
  },
  {
   "cell_type": "markdown",
   "id": "499a236c",
   "metadata": {},
   "source": [
    "Contagem de campos nulos"
   ]
  },
  {
   "cell_type": "code",
   "execution_count": 16,
   "id": "6a458356",
   "metadata": {},
   "outputs": [
    {
     "data": {
      "text/plain": [
       "0"
      ]
     },
     "execution_count": 16,
     "metadata": {},
     "output_type": "execute_result"
    }
   ],
   "source": [
    "sum(dados.isnull().sum())"
   ]
  },
  {
   "cell_type": "markdown",
   "id": "403f0db3",
   "metadata": {},
   "source": [
    "Obtem o númerod e clientes de compra única"
   ]
  },
  {
   "cell_type": "code",
   "execution_count": 22,
   "id": "2a5e860f",
   "metadata": {},
   "outputs": [
    {
     "data": {
      "text/plain": [
       "np.int64(311039)"
      ]
     },
     "execution_count": 22,
     "metadata": {},
     "output_type": "execute_result"
    }
   ],
   "source": [
    "num_clientes_compra_unica = (dados['fk_contact'].value_counts() == 1).sum()\n",
    "num_clientes_compra_unica"
   ]
  },
  {
   "cell_type": "code",
   "execution_count": null,
   "id": "c1727ac3",
   "metadata": {},
   "outputs": [],
   "source": []
  }
 ],
 "metadata": {
  "kernelspec": {
   "display_name": ".venv",
   "language": "python",
   "name": "python3"
  },
  "language_info": {
   "codemirror_mode": {
    "name": "ipython",
    "version": 3
   },
   "file_extension": ".py",
   "mimetype": "text/x-python",
   "name": "python",
   "nbconvert_exporter": "python",
   "pygments_lexer": "ipython3",
   "version": "3.10.12"
  }
 },
 "nbformat": 4,
 "nbformat_minor": 5
}
