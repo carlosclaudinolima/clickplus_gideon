{
 "cells": [
  {
   "cell_type": "code",
   "execution_count": 25,
   "id": "9309edb2",
   "metadata": {},
   "outputs": [
    {
     "name": "stdout",
     "output_type": "stream",
     "text": [
      "Requirement already satisfied: xgboost in /Users/jeankeslernunes/Documents/FIAP/ClickPlus_Challenge_Sprint_4/.venv/lib/python3.9/site-packages (2.1.4)\n",
      "Requirement already satisfied: scipy in /Users/jeankeslernunes/Documents/FIAP/ClickPlus_Challenge_Sprint_4/.venv/lib/python3.9/site-packages (from xgboost) (1.13.1)\n",
      "Requirement already satisfied: numpy in /Users/jeankeslernunes/Documents/FIAP/ClickPlus_Challenge_Sprint_4/.venv/lib/python3.9/site-packages (from xgboost) (2.0.2)\n",
      "\u001b[33mWARNING: You are using pip version 21.2.4; however, version 25.2 is available.\n",
      "You should consider upgrading via the '/Users/jeankeslernunes/Documents/FIAP/ClickPlus_Challenge_Sprint_4/.venv/bin/python -m pip install --upgrade pip' command.\u001b[0m\n"
     ]
    }
   ],
   "source": [
    "import sys\n",
    "!{sys.executable} -m pip install xgboost"
   ]
  },
  {
   "cell_type": "markdown",
   "id": "95f971df",
   "metadata": {},
   "source": [
    "Bloco 1: Carregamento dos Dados\n"
   ]
  },
  {
   "cell_type": "code",
   "execution_count": null,
   "id": "8f686e2e",
   "metadata": {},
   "outputs": [
    {
     "name": "stdout",
     "output_type": "stream",
     "text": [
      "Todos os dados foram carregados com sucesso!\n"
     ]
    }
   ],
   "source": [
    "import pandas as pd\n",
    "import numpy as np\n",
    "from sklearn.model_selection import train_test_split\n",
    "from sklearn.ensemble import RandomForestClassifier\n",
    "from sklearn.metrics import classification_report, roc_auc_score\n",
    "\n",
    "# Carregando o DataFrame RFM para a modelagem\n",
    "caminho_rfm = '../data/features/rfm_features.parquet'\n",
    "df_rfm = pd.read_parquet(caminho_rfm)\n",
    "\n",
    "# Carregando o DataFrame de Vendas para criar o dataset de treino da predição\n",
    "caminho_sales = '../data/redis/sales.parquet'\n",
    "df_sales = pd.read_parquet(caminho_sales)\n",
    "\n",
    "# Carregando o DataFrame 'customers' que será atualizado no final\n",
    "caminho_customers = '../data/redis/customers.parquet'\n",
    "df_customers = pd.read_parquet(caminho_customers)\n",
    "\n",
    "print(\"Todos os dados foram carregados com sucesso!\")"
   ]
  },
  {
   "cell_type": "markdown",
   "id": "43a5b9f2",
   "metadata": {},
   "source": [
    "Bloco 2: Definição do Período de Treino e Teste (Corte Temporal)\n"
   ]
  },
  {
   "cell_type": "code",
   "execution_count": 27,
   "id": "5028ce3e",
   "metadata": {},
   "outputs": [
    {
     "name": "stdout",
     "output_type": "stream",
     "text": [
      "A última compra registrada foi em: 2024-04-01\n",
      "Nossa data de corte para a análise será: 2024-03-02\n",
      "\n",
      "Temos 98214 registros de treino (passado) e 1786 registros no 'futuro' (gabarito).\n"
     ]
    }
   ],
   "source": [
    "# Encontrando a última data de compra no dataset\n",
    "ultima_data = df_sales['data_venda'].max()\n",
    "print(f\"A última compra registrada foi em: {ultima_data.date()}\")\n",
    "\n",
    "#  Definindo nossa data de corte 30 dias antes do final\n",
    "data_corte = ultima_data - pd.Timedelta(days=30)\n",
    "print(f\"Nossa data de corte para a análise será: {data_corte.date()}\")\n",
    "\n",
    "# Separando os dados em treino (passado) e teste (futuro)\n",
    "df_treino = df_sales[df_sales['data_venda'] <= data_corte]\n",
    "df_futuro = df_sales[df_sales['data_venda'] > data_corte]\n",
    "\n",
    "print(f\"\\nTemos {len(df_treino)} registros de treino (passado) e {len(df_futuro)} registros no 'futuro' (gabarito).\")"
   ]
  },
  {
   "cell_type": "markdown",
   "id": "9d3f6d2e",
   "metadata": {},
   "source": [
    "Bloco 3: Criar os \"Gabaritos\" de compras em 7 dias e 30 dias"
   ]
  },
  {
   "cell_type": "code",
   "execution_count": 28,
   "id": "e0e2ee2b",
   "metadata": {},
   "outputs": [
    {
     "name": "stdout",
     "output_type": "stream",
     "text": [
      "Encontramos 1543 clientes únicos que compraram nos últimos 30 dias.\n",
      "Encontramos 346 clientes únicos que compraram nos primeiros 7 dias do período futuro.\n"
     ]
    }
   ],
   "source": [
    "# 1. Gabarito para 30 dias\n",
    "clientes_que_compraram_30d = df_futuro['id_cliente'].unique()\n",
    "print(f\"Encontramos {len(clientes_que_compraram_30d)} clientes únicos que compraram nos últimos 30 dias.\")\n",
    "\n",
    "# 2. Gabarito para 7 dias\n",
    "data_corte_7d = data_corte + pd.Timedelta(days=7)\n",
    "df_futuro_7d = df_sales[(df_sales['data_venda'] > data_corte) & (df_sales['data_venda'] <= data_corte_7d)]\n",
    "clientes_que_compraram_7d = df_futuro_7d['id_cliente'].unique()\n",
    "print(f\"Encontramos {len(clientes_que_compraram_7d)} clientes únicos que compraram nos primeiros 7 dias do período futuro.\")"
   ]
  },
  {
   "cell_type": "markdown",
   "id": "8d2dfebf",
   "metadata": {},
   "source": [
    "Bloco 4: Criar as Features (RFM) Usando Apenas os Dados de Treino\n"
   ]
  },
  {
   "cell_type": "code",
   "execution_count": 29,
   "id": "477a471d",
   "metadata": {},
   "outputs": [
    {
     "name": "stdout",
     "output_type": "stream",
     "text": [
      "Calculando as features RFM com base nos dados de treino...\n",
      "Features RFM calculadas para o período de treino:\n"
     ]
    },
    {
     "data": {
      "text/html": [
       "<div>\n",
       "<style scoped>\n",
       "    .dataframe tbody tr th:only-of-type {\n",
       "        vertical-align: middle;\n",
       "    }\n",
       "\n",
       "    .dataframe tbody tr th {\n",
       "        vertical-align: top;\n",
       "    }\n",
       "\n",
       "    .dataframe thead th {\n",
       "        text-align: right;\n",
       "    }\n",
       "</style>\n",
       "<table border=\"1\" class=\"dataframe\">\n",
       "  <thead>\n",
       "    <tr style=\"text-align: right;\">\n",
       "      <th></th>\n",
       "      <th>Recencia</th>\n",
       "      <th>Frequencia</th>\n",
       "      <th>ValorMonetario</th>\n",
       "    </tr>\n",
       "    <tr>\n",
       "      <th>id_cliente</th>\n",
       "      <th></th>\n",
       "      <th></th>\n",
       "      <th></th>\n",
       "    </tr>\n",
       "  </thead>\n",
       "  <tbody>\n",
       "    <tr>\n",
       "      <th>0000029b76ad3cf9d86ad430754fb1d4478069affda61e8adaf4c57e9aa4b37b</th>\n",
       "      <td>1149</td>\n",
       "      <td>1</td>\n",
       "      <td>91.02</td>\n",
       "    </tr>\n",
       "    <tr>\n",
       "      <th>000010ae2e13049769982d9f07de792d92452ff1d124e3a49109fa57f6af54b8</th>\n",
       "      <td>668</td>\n",
       "      <td>1</td>\n",
       "      <td>82.48</td>\n",
       "    </tr>\n",
       "    <tr>\n",
       "      <th>0001018716456b2b34ca7a31f9b597974be6e1c9f6122a1bba5bb9c267a9e7fe</th>\n",
       "      <td>229</td>\n",
       "      <td>1</td>\n",
       "      <td>193.61</td>\n",
       "    </tr>\n",
       "    <tr>\n",
       "      <th>0002fdedbce706df9a2602a5e1286a904e4582264572e10b0988c607e84288f7</th>\n",
       "      <td>782</td>\n",
       "      <td>1</td>\n",
       "      <td>385.83</td>\n",
       "    </tr>\n",
       "    <tr>\n",
       "      <th>0003cb164c9b94826ccad40eaa46efc7bd2242d6c4625370a6609fcc1a263da4</th>\n",
       "      <td>66</td>\n",
       "      <td>1</td>\n",
       "      <td>116.22</td>\n",
       "    </tr>\n",
       "  </tbody>\n",
       "</table>\n",
       "</div>"
      ],
      "text/plain": [
       "                                                    Recencia  Frequencia  \\\n",
       "id_cliente                                                                 \n",
       "0000029b76ad3cf9d86ad430754fb1d4478069affda61e8...      1149           1   \n",
       "000010ae2e13049769982d9f07de792d92452ff1d124e3a...       668           1   \n",
       "0001018716456b2b34ca7a31f9b597974be6e1c9f6122a1...       229           1   \n",
       "0002fdedbce706df9a2602a5e1286a904e4582264572e10...       782           1   \n",
       "0003cb164c9b94826ccad40eaa46efc7bd2242d6c462537...        66           1   \n",
       "\n",
       "                                                    ValorMonetario  \n",
       "id_cliente                                                          \n",
       "0000029b76ad3cf9d86ad430754fb1d4478069affda61e8...           91.02  \n",
       "000010ae2e13049769982d9f07de792d92452ff1d124e3a...           82.48  \n",
       "0001018716456b2b34ca7a31f9b597974be6e1c9f6122a1...          193.61  \n",
       "0002fdedbce706df9a2602a5e1286a904e4582264572e10...          385.83  \n",
       "0003cb164c9b94826ccad40eaa46efc7bd2242d6c462537...          116.22  "
      ]
     },
     "metadata": {},
     "output_type": "display_data"
    }
   ],
   "source": [
    "# Calculando o RFM para todos os clientes, mas usando apenas o histórico de treino\n",
    "print(\"Calculando as features RFM com base nos dados de treino...\")\n",
    "\n",
    "# A data de referência agora é a nossa data de corte\n",
    "snapshot_date_treino = data_corte + pd.Timedelta(days=1)\n",
    "\n",
    "# Agrupando por cliente e calculando RFM usando apenas o df_treino\n",
    "df_rfm_treino = df_treino.groupby('id_cliente').agg({\n",
    "    'data_venda': lambda date: (snapshot_date_treino - date.max()).days, # Recência\n",
    "    'id_cliente': 'count', # Frequência (simplificada para o modelo)\n",
    "    'valor_venda': 'sum' # Valor Monetário\n",
    "})\n",
    "\n",
    "# Renomeando as colunas\n",
    "df_rfm_treino.rename(columns={'data_venda': 'Recencia',\n",
    "                              'id_cliente': 'Frequencia',\n",
    "                              'valor_venda': 'ValorMonetario'}, inplace=True)\n",
    "\n",
    "print(\"Features RFM calculadas para o período de treino:\")\n",
    "display(df_rfm_treino.head())"
   ]
  },
  {
   "cell_type": "markdown",
   "id": "d041b119",
   "metadata": {},
   "source": [
    "Bloco 5: Criar a Variável-Alvo e Juntar Tudo\n"
   ]
  },
  {
   "cell_type": "code",
   "execution_count": 30,
   "id": "450cd992",
   "metadata": {},
   "outputs": [
    {
     "name": "stdout",
     "output_type": "stream",
     "text": [
      "\n",
      "Dataset final para o modelo, com features e variáveis-alvo:\n"
     ]
    },
    {
     "data": {
      "text/html": [
       "<div>\n",
       "<style scoped>\n",
       "    .dataframe tbody tr th:only-of-type {\n",
       "        vertical-align: middle;\n",
       "    }\n",
       "\n",
       "    .dataframe tbody tr th {\n",
       "        vertical-align: top;\n",
       "    }\n",
       "\n",
       "    .dataframe thead th {\n",
       "        text-align: right;\n",
       "    }\n",
       "</style>\n",
       "<table border=\"1\" class=\"dataframe\">\n",
       "  <thead>\n",
       "    <tr style=\"text-align: right;\">\n",
       "      <th></th>\n",
       "      <th>Recencia</th>\n",
       "      <th>Frequencia</th>\n",
       "      <th>ValorMonetario</th>\n",
       "      <th>comprou_em_30d</th>\n",
       "      <th>comprou_em_7d</th>\n",
       "    </tr>\n",
       "    <tr>\n",
       "      <th>id_cliente</th>\n",
       "      <th></th>\n",
       "      <th></th>\n",
       "      <th></th>\n",
       "      <th></th>\n",
       "      <th></th>\n",
       "    </tr>\n",
       "  </thead>\n",
       "  <tbody>\n",
       "    <tr>\n",
       "      <th>0000029b76ad3cf9d86ad430754fb1d4478069affda61e8adaf4c57e9aa4b37b</th>\n",
       "      <td>1149</td>\n",
       "      <td>1</td>\n",
       "      <td>91.02</td>\n",
       "      <td>0</td>\n",
       "      <td>0</td>\n",
       "    </tr>\n",
       "    <tr>\n",
       "      <th>000010ae2e13049769982d9f07de792d92452ff1d124e3a49109fa57f6af54b8</th>\n",
       "      <td>668</td>\n",
       "      <td>1</td>\n",
       "      <td>82.48</td>\n",
       "      <td>0</td>\n",
       "      <td>0</td>\n",
       "    </tr>\n",
       "    <tr>\n",
       "      <th>0001018716456b2b34ca7a31f9b597974be6e1c9f6122a1bba5bb9c267a9e7fe</th>\n",
       "      <td>229</td>\n",
       "      <td>1</td>\n",
       "      <td>193.61</td>\n",
       "      <td>0</td>\n",
       "      <td>0</td>\n",
       "    </tr>\n",
       "    <tr>\n",
       "      <th>0002fdedbce706df9a2602a5e1286a904e4582264572e10b0988c607e84288f7</th>\n",
       "      <td>782</td>\n",
       "      <td>1</td>\n",
       "      <td>385.83</td>\n",
       "      <td>0</td>\n",
       "      <td>0</td>\n",
       "    </tr>\n",
       "    <tr>\n",
       "      <th>0003cb164c9b94826ccad40eaa46efc7bd2242d6c4625370a6609fcc1a263da4</th>\n",
       "      <td>66</td>\n",
       "      <td>1</td>\n",
       "      <td>116.22</td>\n",
       "      <td>0</td>\n",
       "      <td>0</td>\n",
       "    </tr>\n",
       "  </tbody>\n",
       "</table>\n",
       "</div>"
      ],
      "text/plain": [
       "                                                    Recencia  Frequencia  \\\n",
       "id_cliente                                                                 \n",
       "0000029b76ad3cf9d86ad430754fb1d4478069affda61e8...      1149           1   \n",
       "000010ae2e13049769982d9f07de792d92452ff1d124e3a...       668           1   \n",
       "0001018716456b2b34ca7a31f9b597974be6e1c9f6122a1...       229           1   \n",
       "0002fdedbce706df9a2602a5e1286a904e4582264572e10...       782           1   \n",
       "0003cb164c9b94826ccad40eaa46efc7bd2242d6c462537...        66           1   \n",
       "\n",
       "                                                    ValorMonetario  \\\n",
       "id_cliente                                                           \n",
       "0000029b76ad3cf9d86ad430754fb1d4478069affda61e8...           91.02   \n",
       "000010ae2e13049769982d9f07de792d92452ff1d124e3a...           82.48   \n",
       "0001018716456b2b34ca7a31f9b597974be6e1c9f6122a1...          193.61   \n",
       "0002fdedbce706df9a2602a5e1286a904e4582264572e10...          385.83   \n",
       "0003cb164c9b94826ccad40eaa46efc7bd2242d6c462537...          116.22   \n",
       "\n",
       "                                                    comprou_em_30d  \\\n",
       "id_cliente                                                           \n",
       "0000029b76ad3cf9d86ad430754fb1d4478069affda61e8...               0   \n",
       "000010ae2e13049769982d9f07de792d92452ff1d124e3a...               0   \n",
       "0001018716456b2b34ca7a31f9b597974be6e1c9f6122a1...               0   \n",
       "0002fdedbce706df9a2602a5e1286a904e4582264572e10...               0   \n",
       "0003cb164c9b94826ccad40eaa46efc7bd2242d6c462537...               0   \n",
       "\n",
       "                                                    comprou_em_7d  \n",
       "id_cliente                                                         \n",
       "0000029b76ad3cf9d86ad430754fb1d4478069affda61e8...              0  \n",
       "000010ae2e13049769982d9f07de792d92452ff1d124e3a...              0  \n",
       "0001018716456b2b34ca7a31f9b597974be6e1c9f6122a1...              0  \n",
       "0002fdedbce706df9a2602a5e1286a904e4582264572e10...              0  \n",
       "0003cb164c9b94826ccad40eaa46efc7bd2242d6c462537...              0  "
      ]
     },
     "metadata": {},
     "output_type": "display_data"
    },
    {
     "name": "stdout",
     "output_type": "stream",
     "text": [
      "\n",
      "Distribuição da variável-alvo para 30 dias:\n",
      "comprou_em_30d\n",
      "0    53138\n",
      "1      706\n",
      "Name: count, dtype: int64\n",
      "\n",
      "Distribuição da variável-alvo para 7 dias:\n",
      "comprou_em_7d\n",
      "0    53665\n",
      "1      179\n",
      "Name: count, dtype: int64\n"
     ]
    }
   ],
   "source": [
    "# Criando as duas variáveis-alvo (target)\n",
    "df_rfm_treino['comprou_em_30d'] = df_rfm_treino.index.isin(clientes_que_compraram_30d).astype(int)\n",
    "df_rfm_treino['comprou_em_7d'] = df_rfm_treino.index.isin(clientes_que_compraram_7d).astype(int)\n",
    "\n",
    "# Criando nosso dataset final para o modelo\n",
    "df_modelo = df_rfm_treino.copy()\n",
    "\n",
    "print(\"\\nDataset final para o modelo, com features e variáveis-alvo:\")\n",
    "display(df_modelo.head())\n",
    "\n",
    "# Verificando quantos clientes compraram (1) vs. não compraram (0) para cada alvo\n",
    "print(\"\\nDistribuição da variável-alvo para 30 dias:\")\n",
    "print(df_modelo['comprou_em_30d'].value_counts())\n",
    "\n",
    "print(\"\\nDistribuição da variável-alvo para 7 dias:\")\n",
    "print(df_modelo['comprou_em_7d'].value_counts())"
   ]
  },
  {
   "cell_type": "markdown",
   "id": "642bdb71",
   "metadata": {},
   "source": [
    "# Bloco 6: Treinando e Avaliando o Modelo Preditivo\n"
   ]
  },
  {
   "cell_type": "code",
   "execution_count": 31,
   "id": "02016626",
   "metadata": {},
   "outputs": [
    {
     "name": "stdout",
     "output_type": "stream",
     "text": [
      "--- INICIANDO TREINO DO MODELO DE 30 DIAS ---\n",
      "Treinando o modelo de 30 dias...\n"
     ]
    },
    {
     "name": "stderr",
     "output_type": "stream",
     "text": [
      "/Users/jeankeslernunes/Documents/FIAP/ClickPlus_Challenge_Sprint_4/.venv/lib/python3.9/site-packages/xgboost/core.py:158: UserWarning: [22:58:09] WARNING: /Users/runner/work/xgboost/xgboost/src/learner.cc:740: \n",
      "Parameters: { \"use_label_encoder\" } are not used.\n",
      "\n",
      "  warnings.warn(smsg, UserWarning)\n"
     ]
    },
    {
     "name": "stdout",
     "output_type": "stream",
     "text": [
      "Modelo de 30 dias treinado com sucesso!\n",
      "\n",
      "--- Relatório de Classificação (30 dias) ---\n",
      "              precision    recall  f1-score   support\n",
      "\n",
      "           0       0.99      0.93      0.96     10628\n",
      "           1       0.06      0.33      0.10       141\n",
      "\n",
      "    accuracy                           0.92     10769\n",
      "   macro avg       0.52      0.63      0.53     10769\n",
      "weighted avg       0.98      0.92      0.95     10769\n",
      "\n",
      "AUC-ROC Score (30 dias): 0.7265\n",
      "\n",
      "\n",
      "--- INICIANDO TREINO DO MODELO DE 7 DIAS ---\n",
      "Treinando o modelo de 7 dias...\n"
     ]
    },
    {
     "name": "stderr",
     "output_type": "stream",
     "text": [
      "/Users/jeankeslernunes/Documents/FIAP/ClickPlus_Challenge_Sprint_4/.venv/lib/python3.9/site-packages/xgboost/core.py:158: UserWarning: [22:58:10] WARNING: /Users/runner/work/xgboost/xgboost/src/learner.cc:740: \n",
      "Parameters: { \"use_label_encoder\" } are not used.\n",
      "\n",
      "  warnings.warn(smsg, UserWarning)\n"
     ]
    },
    {
     "name": "stdout",
     "output_type": "stream",
     "text": [
      "Modelo de 7 dias treinado com sucesso!\n",
      "\n",
      "--- Relatório de Classificação (7 dias) ---\n",
      "              precision    recall  f1-score   support\n",
      "\n",
      "           0       1.00      0.99      0.99     10733\n",
      "           1       0.05      0.17      0.07        36\n",
      "\n",
      "    accuracy                           0.99     10769\n",
      "   macro avg       0.52      0.58      0.53     10769\n",
      "weighted avg       0.99      0.99      0.99     10769\n",
      "\n",
      "AUC-ROC Score (7 dias): 0.7851\n"
     ]
    }
   ],
   "source": [
    "# Bloco 6 - NOVO E COMPLETO\n",
    "\n",
    "# 1. Importando as bibliotecas necessárias\n",
    "import xgboost as xgb\n",
    "from sklearn.model_selection import train_test_split\n",
    "from sklearn.metrics import classification_report, roc_auc_score\n",
    "\n",
    "# 2. Preparando os dados para os modelos\n",
    "# As features de entrada (X) são as mesmas para ambos os modelos\n",
    "X = df_rfm_treino[['Recencia', 'Frequencia', 'ValorMonetario']]\n",
    "\n",
    "# Nossas duas variáveis-alvo (y) distintas\n",
    "y_30d = df_rfm_treino['comprou_em_30d']\n",
    "y_7d = df_rfm_treino['comprou_em_7d']\n",
    "\n",
    "\n",
    "# --- TREINO E AVALIAÇÃO DO MODELO DE 30 DIAS ---\n",
    "print(\"--- INICIANDO TREINO DO MODELO DE 30 DIAS ---\")\n",
    "\n",
    "# 3.1. Dividindo os dados para o alvo de 30 dias\n",
    "# 'stratify' garante que a proporção de compradores e não compradores seja a mesma no treino e no teste.\n",
    "X_train_30d, X_test_30d, y_train_30d, y_test_30d = train_test_split(\n",
    "    X, y_30d, test_size=0.2, random_state=42, stratify=y_30d\n",
    ")\n",
    "\n",
    "# 3.2. Criando e Treinando o Modelo XGBoost para 30 dias\n",
    "# 'scale_pos_weight' é a forma mais eficaz de lidar com dados desbalanceados no XGBoost.\n",
    "weight_30d = sum(y_train_30d == 0) / sum(y_train_30d == 1)\n",
    "model_30d = xgb.XGBClassifier(random_state=42, scale_pos_weight=weight_30d, use_label_encoder=False, eval_metric='logloss')\n",
    "\n",
    "print(\"Treinando o modelo de 30 dias...\")\n",
    "model_30d.fit(X_train_30d, y_train_30d)\n",
    "print(\"Modelo de 30 dias treinado com sucesso!\")\n",
    "\n",
    "# 3.3. Fazendo as previsões no conjunto de teste de 30 dias\n",
    "y_pred_30d = model_30d.predict(X_test_30d)\n",
    "y_prob_30d = model_30d.predict_proba(X_test_30d)[:, 1]\n",
    "\n",
    "# 3.4. Avaliando a performance do modelo de 30 dias\n",
    "print(\"\\n--- Relatório de Classificação (30 dias) ---\")\n",
    "print(classification_report(y_test_30d, y_pred_30d))\n",
    "auc_30d = roc_auc_score(y_test_30d, y_prob_30d)\n",
    "print(f\"AUC-ROC Score (30 dias): {auc_30d:.4f}\")\n",
    "\n",
    "\n",
    "# --- TREINO E AVALIAÇÃO DO MODELO DE 7 DIAS ---\n",
    "print(\"\\n\\n--- INICIANDO TREINO DO MODELO DE 7 DIAS ---\")\n",
    "\n",
    "# 4.1. Dividindo os dados para o alvo de 7 dias\n",
    "X_train_7d, X_test_7d, y_train_7d, y_test_7d = train_test_split(\n",
    "    X, y_7d, test_size=0.2, random_state=42, stratify=y_7d\n",
    ")\n",
    "\n",
    "# 4.2. Criando e Treinando o Modelo XGBoost para 7 dias\n",
    "weight_7d = sum(y_train_7d == 0) / sum(y_train_7d == 1)\n",
    "model_7d = xgb.XGBClassifier(random_state=42, scale_pos_weight=weight_7d, use_label_encoder=False, eval_metric='logloss')\n",
    "\n",
    "print(\"Treinando o modelo de 7 dias...\")\n",
    "model_7d.fit(X_train_7d, y_train_7d)\n",
    "print(\"Modelo de 7 dias treinado com sucesso!\")\n",
    "\n",
    "# 4.3. Fazendo as previsões no conjunto de teste de 7 dias\n",
    "y_pred_7d = model_7d.predict(X_test_7d)\n",
    "y_prob_7d = model_7d.predict_proba(X_test_7d)[:, 1]\n",
    "\n",
    "# 4.4. Avaliando a performance do modelo de 7 dias\n",
    "print(\"\\n--- Relatório de Classificação (7 dias) ---\")\n",
    "print(classification_report(y_test_7d, y_pred_7d))\n",
    "auc_7d = roc_auc_score(y_test_7d, y_prob_7d)\n",
    "print(f\"AUC-ROC Score (7 dias): {auc_7d:.4f}\")"
   ]
  },
  {
   "cell_type": "markdown",
   "id": "8da8389f",
   "metadata": {},
   "source": [
    "Nosso primeiro modelo é cauteloso e conservador. Ele prefere não arriscar um palpite errado (por isso o Recall é baixo, ele perde muitas oportunidades), mas dos poucos palpites que ele dá, uma porção razoável está correta (Precisão de 36%). A nota AUC de 0.77 nos confirma que as features RFM que criamos são sim preditivas e que estamos no caminho certo. Na próxima fase, pretendemos melhorar as features, testar outros modelos, como XGBoost, e ajustar o ponto de corte para otimizar a precisão e/ou o recall."
   ]
  },
  {
   "cell_type": "markdown",
   "id": "e4ef4510",
   "metadata": {},
   "source": [
    "Bloco Final: Gerar predições para TODOS os clientes e atualizar o arquivo final\n"
   ]
  },
  {
   "cell_type": "code",
   "execution_count": 32,
   "id": "597948f6",
   "metadata": {},
   "outputs": [
    {
     "name": "stdout",
     "output_type": "stream",
     "text": [
      "Iniciando a etapa final de predição e salvamento...\n",
      "\n",
      "--- Treinando o MODELO FINAL de 30 dias com todos os dados históricos...\n"
     ]
    },
    {
     "name": "stderr",
     "output_type": "stream",
     "text": [
      "/Users/jeankeslernunes/Documents/FIAP/ClickPlus_Challenge_Sprint_4/.venv/lib/python3.9/site-packages/xgboost/core.py:158: UserWarning: [22:58:10] WARNING: /Users/runner/work/xgboost/xgboost/src/learner.cc:740: \n",
      "Parameters: { \"use_label_encoder\" } are not used.\n",
      "\n",
      "  warnings.warn(smsg, UserWarning)\n"
     ]
    },
    {
     "name": "stdout",
     "output_type": "stream",
     "text": [
      "Modelo final de 30 dias treinado com sucesso!\n",
      "\n",
      "--- Treinando o MODELO FINAL de 7 dias com todos os dados históricos...\n"
     ]
    },
    {
     "name": "stderr",
     "output_type": "stream",
     "text": [
      "/Users/jeankeslernunes/Documents/FIAP/ClickPlus_Challenge_Sprint_4/.venv/lib/python3.9/site-packages/xgboost/core.py:158: UserWarning: [22:58:11] WARNING: /Users/runner/work/xgboost/xgboost/src/learner.cc:740: \n",
      "Parameters: { \"use_label_encoder\" } are not used.\n",
      "\n",
      "  warnings.warn(smsg, UserWarning)\n"
     ]
    },
    {
     "name": "stdout",
     "output_type": "stream",
     "text": [
      "Modelo final de 7 dias treinado com sucesso!\n",
      "\n",
      "--- Gerando probabilidades reais para todos os clientes...\n",
      "\n",
      "Arquivo '../data/04_output/customers.parquet' atualizado com sucesso com as probabilidades REAIS dos modelos de 7 e 30 dias!\n"
     ]
    },
    {
     "data": {
      "text/html": [
       "<div>\n",
       "<style scoped>\n",
       "    .dataframe tbody tr th:only-of-type {\n",
       "        vertical-align: middle;\n",
       "    }\n",
       "\n",
       "    .dataframe tbody tr th {\n",
       "        vertical-align: top;\n",
       "    }\n",
       "\n",
       "    .dataframe thead th {\n",
       "        text-align: right;\n",
       "    }\n",
       "</style>\n",
       "<table border=\"1\" class=\"dataframe\">\n",
       "  <thead>\n",
       "    <tr style=\"text-align: right;\">\n",
       "      <th></th>\n",
       "      <th>id_cliente</th>\n",
       "      <th>nome_cliente</th>\n",
       "      <th>segmento</th>\n",
       "      <th>prob_compra_7d</th>\n",
       "      <th>prob_compra_30d</th>\n",
       "      <th>sugestao_prox_trecho</th>\n",
       "      <th>data_prox_viagem</th>\n",
       "    </tr>\n",
       "  </thead>\n",
       "  <tbody>\n",
       "    <tr>\n",
       "      <th>0</th>\n",
       "      <td>0000029b76ad3cf9d86ad430754fb1d4478069affda61e...</td>\n",
       "      <td>Dra. Raquel Duarte</td>\n",
       "      <td>Em Risco</td>\n",
       "      <td>0.00</td>\n",
       "      <td>0.01</td>\n",
       "      <td>Aguardando recomendação</td>\n",
       "      <td>Aguardando previsão</td>\n",
       "    </tr>\n",
       "    <tr>\n",
       "      <th>1</th>\n",
       "      <td>000010ae2e13049769982d9f07de792d92452ff1d124e3...</td>\n",
       "      <td>Léo Silveira</td>\n",
       "      <td>Em Risco</td>\n",
       "      <td>0.00</td>\n",
       "      <td>0.13</td>\n",
       "      <td>Aguardando recomendação</td>\n",
       "      <td>Aguardando previsão</td>\n",
       "    </tr>\n",
       "    <tr>\n",
       "      <th>2</th>\n",
       "      <td>0001018716456b2b34ca7a31f9b597974be6e1c9f6122a...</td>\n",
       "      <td>Mariah Caldeira</td>\n",
       "      <td>Em Risco</td>\n",
       "      <td>0.05</td>\n",
       "      <td>0.26</td>\n",
       "      <td>Aguardando recomendação</td>\n",
       "      <td>Aguardando previsão</td>\n",
       "    </tr>\n",
       "    <tr>\n",
       "      <th>3</th>\n",
       "      <td>0002fdedbce706df9a2602a5e1286a904e4582264572e1...</td>\n",
       "      <td>Liz Pinto</td>\n",
       "      <td>Em Risco</td>\n",
       "      <td>0.00</td>\n",
       "      <td>0.04</td>\n",
       "      <td>Aguardando recomendação</td>\n",
       "      <td>Aguardando previsão</td>\n",
       "    </tr>\n",
       "    <tr>\n",
       "      <th>4</th>\n",
       "      <td>0003cb164c9b94826ccad40eaa46efc7bd2242d6c46253...</td>\n",
       "      <td>Maria Julia Jesus</td>\n",
       "      <td>Em Risco</td>\n",
       "      <td>0.00</td>\n",
       "      <td>0.30</td>\n",
       "      <td>Aguardando recomendação</td>\n",
       "      <td>Aguardando previsão</td>\n",
       "    </tr>\n",
       "  </tbody>\n",
       "</table>\n",
       "</div>"
      ],
      "text/plain": [
       "                                          id_cliente        nome_cliente  \\\n",
       "0  0000029b76ad3cf9d86ad430754fb1d4478069affda61e...  Dra. Raquel Duarte   \n",
       "1  000010ae2e13049769982d9f07de792d92452ff1d124e3...        Léo Silveira   \n",
       "2  0001018716456b2b34ca7a31f9b597974be6e1c9f6122a...     Mariah Caldeira   \n",
       "3  0002fdedbce706df9a2602a5e1286a904e4582264572e1...           Liz Pinto   \n",
       "4  0003cb164c9b94826ccad40eaa46efc7bd2242d6c46253...   Maria Julia Jesus   \n",
       "\n",
       "   segmento  prob_compra_7d  prob_compra_30d     sugestao_prox_trecho  \\\n",
       "0  Em Risco            0.00             0.01  Aguardando recomendação   \n",
       "1  Em Risco            0.00             0.13  Aguardando recomendação   \n",
       "2  Em Risco            0.05             0.26  Aguardando recomendação   \n",
       "3  Em Risco            0.00             0.04  Aguardando recomendação   \n",
       "4  Em Risco            0.00             0.30  Aguardando recomendação   \n",
       "\n",
       "      data_prox_viagem  \n",
       "0  Aguardando previsão  \n",
       "1  Aguardando previsão  \n",
       "2  Aguardando previsão  \n",
       "3  Aguardando previsão  \n",
       "4  Aguardando previsão  "
      ]
     },
     "metadata": {},
     "output_type": "display_data"
    }
   ],
   "source": [
    "# --- Bloco Final: Gerar Predições e Atualizar Arquivo de Saída ---\n",
    "\n",
    "print(\"Iniciando a etapa final de predição e salvamento...\")\n",
    "\n",
    "# --- ETAPA 1: PREPARAR OS DADOS FINAIS ---\n",
    "\n",
    "# Usaremos todo o histórico de treino (df_rfm_treino) para treinar os modelos finais\n",
    "X_final_treino = df_rfm_treino[['Recencia', 'Frequencia', 'ValorMonetario']]\n",
    "y_final_treino_30d = df_rfm_treino['comprou_em_30d']\n",
    "y_final_treino_7d = df_rfm_treino['comprou_em_7d']\n",
    "\n",
    "# E usaremos a base RFM completa (df_rfm), que representa todos os clientes, para gerar as previsões\n",
    "X_para_prever = df_rfm[['Recencia', 'Frequencia', 'ValorMonetario']]\n",
    "\n",
    "\n",
    "# --- ETAPA 2: TREINAR OS MODELOS FINAIS ---\n",
    "# Esta é a parte que estava faltando. Treinamos os modelos com 100% dos dados históricos.\n",
    "\n",
    "print(\"\\n--- Treinando o MODELO FINAL de 30 dias com todos os dados históricos...\")\n",
    "weight_final_30d = sum(y_final_treino_30d == 0) / sum(y_final_treino_30d == 1)\n",
    "model_final_30d = xgb.XGBClassifier(random_state=42, scale_pos_weight=weight_final_30d, use_label_encoder=False, eval_metric='logloss')\n",
    "model_final_30d.fit(X_final_treino, y_final_treino_30d)\n",
    "print(\"Modelo final de 30 dias treinado com sucesso!\")\n",
    "\n",
    "print(\"\\n--- Treinando o MODELO FINAL de 7 dias com todos os dados históricos...\")\n",
    "weight_final_7d = sum(y_final_treino_7d == 0) / sum(y_final_treino_7d == 1)\n",
    "model_final_7d = xgb.XGBClassifier(random_state=42, scale_pos_weight=weight_final_7d, use_label_encoder=False, eval_metric='logloss')\n",
    "model_final_7d.fit(X_final_treino, y_final_treino_7d)\n",
    "print(\"Modelo final de 7 dias treinado com sucesso!\")\n",
    "\n",
    "\n",
    "# --- ETAPA 3: GERAR PREVISÕES FINAIS E ATUALIZAR O ARQUIVO ---\n",
    "print(\"\\n--- Gerando probabilidades reais para todos os clientes...\")\n",
    "\n",
    "# Agora as variáveis 'model_final_30d' e 'model_final_7d' existem e podemos usá-las\n",
    "probabilidades_30d = model_final_30d.predict_proba(X_para_prever)[:, 1]\n",
    "probabilidades_7d = model_final_7d.predict_proba(X_para_prever)[:, 1]\n",
    "\n",
    "df_rfm['prob_compra_30d'] = probabilidades_30d.round(2)\n",
    "df_rfm['prob_compra_7d'] = probabilidades_7d.round(2)\n",
    "\n",
    "df_rfm_com_id = df_rfm.reset_index().rename(columns={'fk_contact': 'id_cliente'})\n",
    "\n",
    "df_customers_para_merge = df_customers.drop(\n",
    "    columns=['prob_compra_7d', 'prob_compra_30d', 'prob_prox_compra'], \n",
    "    errors='ignore'\n",
    ")\n",
    "\n",
    "df_customers_atualizado = pd.merge(\n",
    "    df_customers_para_merge,\n",
    "    df_rfm_com_id[['id_cliente', 'prob_compra_7d', 'prob_compra_30d']],\n",
    "    on='id_cliente',\n",
    "    how='left'\n",
    ")\n",
    "\n",
    "colunas_finais = [\n",
    "    'id_cliente', \n",
    "    'nome_cliente',\n",
    "    'segmento',\n",
    "    'prob_compra_7d',\n",
    "    'prob_compra_30d', \n",
    "    'sugestao_prox_trecho', \n",
    "    'data_prox_viagem'\n",
    "]\n",
    "df_customers_atualizado = df_customers_atualizado[colunas_finais]\n",
    "df_customers_atualizado.to_parquet(caminho_customers, index=False)\n",
    "\n",
    "print(f\"\\nArquivo '{caminho_customers}' atualizado com sucesso com as probabilidades REAIS dos modelos de 7 e 30 dias!\")\n",
    "display(df_customers_atualizado.head())\n"
   ]
  }
 ],
 "metadata": {
  "kernelspec": {
   "display_name": ".venv",
   "language": "python",
   "name": "python3"
  },
  "language_info": {
   "codemirror_mode": {
    "name": "ipython",
    "version": 3
   },
   "file_extension": ".py",
   "mimetype": "text/x-python",
   "name": "python",
   "nbconvert_exporter": "python",
   "pygments_lexer": "ipython3",
   "version": "3.9.6"
  }
 },
 "nbformat": 4,
 "nbformat_minor": 5
}
