{
 "cells": [
  {
   "cell_type": "code",
   "execution_count": 1,
   "id": "a25483e8",
   "metadata": {},
   "outputs": [
    {
     "name": "stdout",
     "output_type": "stream",
     "text": [
      "Requirement already satisfied: pyarrow in /home/ninja/Documentos/clickbuproto/.venv/lib/python3.10/site-packages (20.0.0)\n"
     ]
    }
   ],
   "source": [
    "import sys\n",
    "!{sys.executable} -m pip install pyarrow"
   ]
  },
  {
   "cell_type": "markdown",
   "id": "28023979",
   "metadata": {},
   "source": [
    "Bloco 1: Importação das Bibliotecas"
   ]
  },
  {
   "cell_type": "code",
   "execution_count": 2,
   "id": "fa3b4bb4",
   "metadata": {},
   "outputs": [],
   "source": [
    "# Importando todas as ferramentas necessárias\n",
    "import pandas as pd\n",
    "import numpy as np\n",
    "import matplotlib.pyplot as plt\n",
    "import seaborn as sns\n",
    "from datetime import datetime"
   ]
  },
  {
   "cell_type": "markdown",
   "id": "43d8a23b",
   "metadata": {},
   "source": [
    "Bloco 2: Carregamento dos Dados"
   ]
  },
  {
   "cell_type": "code",
   "execution_count": 3,
   "id": "1d980772",
   "metadata": {},
   "outputs": [
    {
     "name": "stdout",
     "output_type": "stream",
     "text": [
      "Amostra de dados com 50000 linhas carregada com sucesso:\n"
     ]
    },
    {
     "data": {
      "text/html": [
       "<div>\n",
       "<style scoped>\n",
       "    .dataframe tbody tr th:only-of-type {\n",
       "        vertical-align: middle;\n",
       "    }\n",
       "\n",
       "    .dataframe tbody tr th {\n",
       "        vertical-align: top;\n",
       "    }\n",
       "\n",
       "    .dataframe thead th {\n",
       "        text-align: right;\n",
       "    }\n",
       "</style>\n",
       "<table border=\"1\" class=\"dataframe\">\n",
       "  <thead>\n",
       "    <tr style=\"text-align: right;\">\n",
       "      <th></th>\n",
       "      <th>nk_ota_localizer_id</th>\n",
       "      <th>fk_contact</th>\n",
       "      <th>date_purchase</th>\n",
       "      <th>time_purchase</th>\n",
       "      <th>place_origin_departure</th>\n",
       "      <th>place_destination_departure</th>\n",
       "      <th>place_origin_return</th>\n",
       "      <th>place_destination_return</th>\n",
       "      <th>fk_departure_ota_bus_company</th>\n",
       "      <th>fk_return_ota_bus_company</th>\n",
       "      <th>gmv_success</th>\n",
       "      <th>total_tickets_quantity_success</th>\n",
       "    </tr>\n",
       "  </thead>\n",
       "  <tbody>\n",
       "    <tr>\n",
       "      <th>0</th>\n",
       "      <td>bc02d5245bec63b30ff1102fa273fc03f58bc9cc3f674e...</td>\n",
       "      <td>a7218ff4ee7d37d48d2b4391b955627cb089870b934912...</td>\n",
       "      <td>2018-12-26</td>\n",
       "      <td>15:33:35</td>\n",
       "      <td>6b86b273ff34fce19d6b804eff5a3f5747ada4eaa22f1d...</td>\n",
       "      <td>50e9a8665b62c8d68bccc77c7c92431a1aa26ccbd38ed4...</td>\n",
       "      <td>0</td>\n",
       "      <td>0</td>\n",
       "      <td>8527a891e224136950ff32ca212b45bc93f69fbb801c3b...</td>\n",
       "      <td>1</td>\n",
       "      <td>89.09</td>\n",
       "      <td>1</td>\n",
       "    </tr>\n",
       "    <tr>\n",
       "      <th>1</th>\n",
       "      <td>5432f12612dd5d749b3be880e779989cf63b5efa4bcc4e...</td>\n",
       "      <td>37228485e0dc83d84d1bcd1bef3dc632301bf6cb22c8b5...</td>\n",
       "      <td>2018-12-05</td>\n",
       "      <td>15:07:57</td>\n",
       "      <td>10e4e7caf8b078429bb1c80b1a10118ac6f963eff098fd...</td>\n",
       "      <td>e6d41d208672a4e50b86d959f4a6254975e6fb9b088116...</td>\n",
       "      <td>0</td>\n",
       "      <td>0</td>\n",
       "      <td>36ebe205bcdfc499a25e6923f4450fa8d48196ceb4fa0c...</td>\n",
       "      <td>1</td>\n",
       "      <td>155.97</td>\n",
       "      <td>1</td>\n",
       "    </tr>\n",
       "    <tr>\n",
       "      <th>2</th>\n",
       "      <td>fb3caed9b2f1b6016d45ccddb19095476e61a2c85faa8e...</td>\n",
       "      <td>3467ec081e2421e72c96e7203b929d21927fd00b6b5f28...</td>\n",
       "      <td>2018-12-21</td>\n",
       "      <td>18:41:54</td>\n",
       "      <td>7688b6ef52555962d008fff894223582c484517cea7da4...</td>\n",
       "      <td>8c1f1046219ddd216a023f792356ddf127fce372a72ec9...</td>\n",
       "      <td>0</td>\n",
       "      <td>0</td>\n",
       "      <td>ec2e990b934dde55cb87300629cedfc21b15cd28bbcf77...</td>\n",
       "      <td>1</td>\n",
       "      <td>121.99</td>\n",
       "      <td>1</td>\n",
       "    </tr>\n",
       "    <tr>\n",
       "      <th>3</th>\n",
       "      <td>4dc44a6dd592b702feccb493d192210c86965aee684529...</td>\n",
       "      <td>ab3251a2be0f69713b8f97b0e9d1579e31551f4fd4facf...</td>\n",
       "      <td>2018-12-06</td>\n",
       "      <td>14:01:38</td>\n",
       "      <td>4e07408562bedb8b60ce05c1decfe3ad16b72230967de0...</td>\n",
       "      <td>d6acb3c1a79e57bcc03d976cb4d98f56edccd4cf426392...</td>\n",
       "      <td>0</td>\n",
       "      <td>0</td>\n",
       "      <td>5f9c4ab08cac7457e9111a30e4664920607ea2c115a143...</td>\n",
       "      <td>1</td>\n",
       "      <td>55.22</td>\n",
       "      <td>1</td>\n",
       "    </tr>\n",
       "    <tr>\n",
       "      <th>4</th>\n",
       "      <td>aa34ed7fd0a6b405df2df1bf9f8d68e6df9b9a868a6181...</td>\n",
       "      <td>ceea0de820a6379f2c4215bddaec66c33994b304607e56...</td>\n",
       "      <td>2021-02-23</td>\n",
       "      <td>20:08:25</td>\n",
       "      <td>7688b6ef52555962d008fff894223582c484517cea7da4...</td>\n",
       "      <td>23765fc69c4e3c0b10f5d15471dc2245e2a19af16b513f...</td>\n",
       "      <td>0</td>\n",
       "      <td>0</td>\n",
       "      <td>48449a14a4ff7d79bb7a1b6f3d488eba397c36ef25634c...</td>\n",
       "      <td>1</td>\n",
       "      <td>45.31</td>\n",
       "      <td>1</td>\n",
       "    </tr>\n",
       "  </tbody>\n",
       "</table>\n",
       "</div>"
      ],
      "text/plain": [
       "                                 nk_ota_localizer_id  \\\n",
       "0  bc02d5245bec63b30ff1102fa273fc03f58bc9cc3f674e...   \n",
       "1  5432f12612dd5d749b3be880e779989cf63b5efa4bcc4e...   \n",
       "2  fb3caed9b2f1b6016d45ccddb19095476e61a2c85faa8e...   \n",
       "3  4dc44a6dd592b702feccb493d192210c86965aee684529...   \n",
       "4  aa34ed7fd0a6b405df2df1bf9f8d68e6df9b9a868a6181...   \n",
       "\n",
       "                                          fk_contact date_purchase  \\\n",
       "0  a7218ff4ee7d37d48d2b4391b955627cb089870b934912...    2018-12-26   \n",
       "1  37228485e0dc83d84d1bcd1bef3dc632301bf6cb22c8b5...    2018-12-05   \n",
       "2  3467ec081e2421e72c96e7203b929d21927fd00b6b5f28...    2018-12-21   \n",
       "3  ab3251a2be0f69713b8f97b0e9d1579e31551f4fd4facf...    2018-12-06   \n",
       "4  ceea0de820a6379f2c4215bddaec66c33994b304607e56...    2021-02-23   \n",
       "\n",
       "  time_purchase                             place_origin_departure  \\\n",
       "0      15:33:35  6b86b273ff34fce19d6b804eff5a3f5747ada4eaa22f1d...   \n",
       "1      15:07:57  10e4e7caf8b078429bb1c80b1a10118ac6f963eff098fd...   \n",
       "2      18:41:54  7688b6ef52555962d008fff894223582c484517cea7da4...   \n",
       "3      14:01:38  4e07408562bedb8b60ce05c1decfe3ad16b72230967de0...   \n",
       "4      20:08:25  7688b6ef52555962d008fff894223582c484517cea7da4...   \n",
       "\n",
       "                         place_destination_departure place_origin_return  \\\n",
       "0  50e9a8665b62c8d68bccc77c7c92431a1aa26ccbd38ed4...                   0   \n",
       "1  e6d41d208672a4e50b86d959f4a6254975e6fb9b088116...                   0   \n",
       "2  8c1f1046219ddd216a023f792356ddf127fce372a72ec9...                   0   \n",
       "3  d6acb3c1a79e57bcc03d976cb4d98f56edccd4cf426392...                   0   \n",
       "4  23765fc69c4e3c0b10f5d15471dc2245e2a19af16b513f...                   0   \n",
       "\n",
       "  place_destination_return                       fk_departure_ota_bus_company  \\\n",
       "0                        0  8527a891e224136950ff32ca212b45bc93f69fbb801c3b...   \n",
       "1                        0  36ebe205bcdfc499a25e6923f4450fa8d48196ceb4fa0c...   \n",
       "2                        0  ec2e990b934dde55cb87300629cedfc21b15cd28bbcf77...   \n",
       "3                        0  5f9c4ab08cac7457e9111a30e4664920607ea2c115a143...   \n",
       "4                        0  48449a14a4ff7d79bb7a1b6f3d488eba397c36ef25634c...   \n",
       "\n",
       "  fk_return_ota_bus_company  gmv_success  total_tickets_quantity_success  \n",
       "0                         1        89.09                               1  \n",
       "1                         1       155.97                               1  \n",
       "2                         1       121.99                               1  \n",
       "3                         1        55.22                               1  \n",
       "4                         1        45.31                               1  "
      ]
     },
     "metadata": {},
     "output_type": "display_data"
    }
   ],
   "source": [
    "# Definindo o caminho e carregar o dataset original\n",
    "# caminho_dados = '../data/raw/df_t.csv'\n",
    "caminho_dados = '../data/raw/dados.parquet'\n",
    "nrows=50000\n",
    "\n",
    "# --- MUDANÇA PRINCIPAL AQUI ---\n",
    "# Usamos o parâmetro 'nrows' para ler apenas as primeiras 100.000 linhas do arquivo.\n",
    "# Isso cria nossa amostra de dados e resolve o problema de memória.\n",
    "# df = pd.read_csv(caminho_dados, nrows=200000)\n",
    "df = pd.read_parquet(caminho_dados)\n",
    "df = df.head(nrows)\n",
    "\n",
    "# Usado para visualizar as primeiras linhas para confirmar o carregamento\n",
    "print(f\"Amostra de dados com {len(df)} linhas carregada com sucesso:\")\n",
    "display(df.head())\n"
   ]
  },
  {
   "cell_type": "markdown",
   "id": "919eaadb",
   "metadata": {},
   "source": [
    "Bloco 3: Limpeza e Transformação dos Dados"
   ]
  },
  {
   "cell_type": "code",
   "execution_count": 4,
   "id": "b48a735d",
   "metadata": {},
   "outputs": [
    {
     "name": "stdout",
     "output_type": "stream",
     "text": [
      "Estrutura inicial do DataFrame:\n",
      "<class 'pandas.core.frame.DataFrame'>\n",
      "RangeIndex: 50000 entries, 0 to 49999\n",
      "Data columns (total 12 columns):\n",
      " #   Column                          Non-Null Count  Dtype  \n",
      "---  ------                          --------------  -----  \n",
      " 0   nk_ota_localizer_id             50000 non-null  object \n",
      " 1   fk_contact                      50000 non-null  object \n",
      " 2   date_purchase                   50000 non-null  object \n",
      " 3   time_purchase                   50000 non-null  object \n",
      " 4   place_origin_departure          50000 non-null  object \n",
      " 5   place_destination_departure     50000 non-null  object \n",
      " 6   place_origin_return             50000 non-null  object \n",
      " 7   place_destination_return        50000 non-null  object \n",
      " 8   fk_departure_ota_bus_company    50000 non-null  object \n",
      " 9   fk_return_ota_bus_company       50000 non-null  object \n",
      " 10  gmv_success                     50000 non-null  float64\n",
      " 11  total_tickets_quantity_success  50000 non-null  int64  \n",
      "dtypes: float64(1), int64(1), object(10)\n",
      "memory usage: 4.6+ MB\n",
      "\n",
      "Convertendo colunas de data e hora...\n",
      "\n",
      "Estrutura do DataFrame após conversão:\n",
      "<class 'pandas.core.frame.DataFrame'>\n",
      "RangeIndex: 50000 entries, 0 to 49999\n",
      "Data columns (total 11 columns):\n",
      " #   Column                          Non-Null Count  Dtype         \n",
      "---  ------                          --------------  -----         \n",
      " 0   nk_ota_localizer_id             50000 non-null  object        \n",
      " 1   fk_contact                      50000 non-null  object        \n",
      " 2   place_origin_departure          50000 non-null  object        \n",
      " 3   place_destination_departure     50000 non-null  object        \n",
      " 4   place_origin_return             50000 non-null  object        \n",
      " 5   place_destination_return        50000 non-null  object        \n",
      " 6   fk_departure_ota_bus_company    50000 non-null  object        \n",
      " 7   fk_return_ota_bus_company       50000 non-null  object        \n",
      " 8   gmv_success                     50000 non-null  float64       \n",
      " 9   total_tickets_quantity_success  50000 non-null  int64         \n",
      " 10  datetime_purchase               50000 non-null  datetime64[ns]\n",
      "dtypes: datetime64[ns](1), float64(1), int64(1), object(8)\n",
      "memory usage: 4.2+ MB\n"
     ]
    }
   ],
   "source": [
    "# Diagnóstico técnico e conversão de tipos de dados\n",
    "print(\"Estrutura inicial do DataFrame:\")\n",
    "df.info()\n",
    "\n",
    "# Concatenando as colunas de data e hora e convertendo para o tipo datetime\n",
    "print(\"\\nConvertendo colunas de data e hora...\")\n",
    "df['datetime_purchase'] = pd.to_datetime(df['date_purchase'] + ' ' + df['time_purchase'])\n",
    "\n",
    "# Apagando as colunas de texto originais para manter o DataFrame limpo\n",
    "df = df.drop(columns=['date_purchase', 'time_purchase'])\n",
    "\n",
    "print(\"\\nEstrutura do DataFrame após conversão:\")\n",
    "df.info()"
   ]
  },
  {
   "cell_type": "markdown",
   "id": "ee41548b",
   "metadata": {},
   "source": [
    "Bloco 4: Persistência (Salvar o Resultado da Limpeza)"
   ]
  },
  {
   "cell_type": "code",
   "execution_count": 5,
   "id": "3d1ee8e1",
   "metadata": {},
   "outputs": [
    {
     "name": "stdout",
     "output_type": "stream",
     "text": [
      "Dados limpos salvos com sucesso em: '../data/processed/dados_limpos.parquet'\n"
     ]
    }
   ],
   "source": [
    "# Salvando o DataFrame limpo para a próxima etapa\n",
    "caminho_saida_limpo = '../data/processed/dados_limpos.parquet'\n",
    "df.to_parquet(caminho_saida_limpo, index=False)\n",
    "\n",
    "print(f\"Dados limpos salvos com sucesso em: '{caminho_saida_limpo}'\")"
   ]
  },
  {
   "cell_type": "markdown",
   "id": "d520e5f1",
   "metadata": {},
   "source": [
    "Bloco 5: Extrair IDs Únicos para Criação de Aliases\n"
   ]
  },
  {
   "cell_type": "code",
   "execution_count": 6,
   "id": "d949828a",
   "metadata": {},
   "outputs": [
    {
     "name": "stdout",
     "output_type": "stream",
     "text": [
      "Extraindo IDs únicos para a criação de aliases...\n",
      "25642 IDs de clientes únicos salvos em 'clientes_unicos.csv'\n",
      "1720 hashes de locais únicos salvos em 'locais_unicos.csv'\n"
     ]
    }
   ],
   "source": [
    "print(\"Extraindo IDs únicos para a criação de aliases...\")\n",
    "\n",
    "# Extrai todos os fk_contact únicos\n",
    "clientes_unicos = df['fk_contact'].unique()\n",
    "df_clientes_unicos = pd.DataFrame(clientes_unicos, columns=['fk_contact'])\n",
    "df_clientes_unicos.to_csv('../data/raw/clientes_unicos.csv', index=False)\n",
    "print(f\"{len(df_clientes_unicos)} IDs de clientes únicos salvos em 'clientes_unicos.csv'\")\n",
    "\n",
    "# Extrai todos os locais únicos (origem e destino)\n",
    "locais_origem = df['place_origin_departure'].unique()\n",
    "locais_destino = df['place_destination_departure'].unique()\n",
    "todos_locais = np.union1d(locais_origem, locais_destino) # Pega a união para não ter duplicados\n",
    "\n",
    "df_locais_unicos = pd.DataFrame(todos_locais, columns=['place_hash'])\n",
    "df_locais_unicos.to_csv('../data/raw/locais_unicos.csv', index=False)\n",
    "print(f\"{len(df_locais_unicos)} hashes de locais únicos salvos em 'locais_unicos.csv'\")"
   ]
  }
 ],
 "metadata": {
  "kernelspec": {
   "display_name": ".venv",
   "language": "python",
   "name": "python3"
  },
  "language_info": {
   "codemirror_mode": {
    "name": "ipython",
    "version": 3
   },
   "file_extension": ".py",
   "mimetype": "text/x-python",
   "name": "python",
   "nbconvert_exporter": "python",
   "pygments_lexer": "ipython3",
   "version": "3.10.12"
  }
 },
 "nbformat": 4,
 "nbformat_minor": 5
}
