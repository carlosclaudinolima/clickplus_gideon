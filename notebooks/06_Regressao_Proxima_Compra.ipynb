{
 "cells": [
  {
   "cell_type": "markdown",
   "id": "42a6ced1",
   "metadata": {},
   "source": [
    "# Bloco 1: Importações (Focadas em Regressão)"
   ]
  },
  {
   "cell_type": "code",
   "execution_count": 1,
   "id": "f3e596e0",
   "metadata": {},
   "outputs": [
    {
     "name": "stdout",
     "output_type": "stream",
     "text": [
      "Bibliotecas de Regressão carregadas com sucesso.\n"
     ]
    }
   ],
   "source": [
    "\n",
    "import pandas as pd\n",
    "import numpy as np\n",
    "import xgboost as xgb\n",
    "import matplotlib.pyplot as plt\n",
    "import seaborn as sns\n",
    "from datetime import datetime\n",
    "\n",
    "# Importações do Scikit-learn para Regressão\n",
    "from sklearn.model_selection import train_test_split, RandomizedSearchCV\n",
    "from sklearn.metrics import mean_squared_error, mean_absolute_error, r2_score\n",
    "from sklearn.preprocessing import LabelEncoder # Precisaremos recriar o encoder\n",
    "\n",
    "# Ignorar warnings futuros\n",
    "import warnings\n",
    "warnings.filterwarnings('ignore')\n",
    "\n",
    "print(\"Bibliotecas de Regressão carregadas com sucesso.\")"
   ]
  },
  {
   "cell_type": "markdown",
   "id": "7aa644f6",
   "metadata": {},
   "source": [
    "# Bloco 2: Carregamento dos Dados Base"
   ]
  },
  {
   "cell_type": "code",
   "execution_count": 2,
   "id": "43bfa1ec",
   "metadata": {},
   "outputs": [
    {
     "name": "stdout",
     "output_type": "stream",
     "text": [
      "Dados de vendas carregados: 50000 transações.\n",
      "Dados de clientes carregados: 25642 clientes únicos.\n"
     ]
    }
   ],
   "source": [
    "\n",
    "# Carregando o DataFrame de Vendas (contém todo o histórico transacional com aliases)\n",
    "caminho_sales = '../data/redis/sales.parquet'\n",
    "df_sales = pd.read_parquet(caminho_sales)\n",
    "\n",
    "# Carregando o DataFrame 'customers' (será atualizado no final)\n",
    "caminho_customers = '../data/redis/customers.parquet'\n",
    "df_customers = pd.read_parquet(caminho_customers)\n",
    "\n",
    "# Carregando a feature store RFM COMPLETA (criada no notebook 03, usada no 04_v2)\n",
    "caminho_rfm_completo = '../data/curated/rfm_features.parquet'\n",
    "df_rfm_completo = pd.read_parquet(caminho_rfm_completo)\n",
    "\n",
    "print(f\"Dados de vendas carregados: {len(df_sales)} transações.\")\n",
    "print(f\"Dados de clientes carregados: {len(df_customers)} clientes únicos.\")"
   ]
  },
  {
   "cell_type": "markdown",
   "id": "cc34456e",
   "metadata": {},
   "source": [
    "# Bloco 3: Setup do Corte Temporal e Recriação da Feature Store Histórica (X)"
   ]
  },
  {
   "cell_type": "code",
   "execution_count": 3,
   "id": "da37a2c1",
   "metadata": {},
   "outputs": [
    {
     "name": "stdout",
     "output_type": "stream",
     "text": [
      "Iniciando recriação da Feature Store Histórica (X)...\n",
      "Data de corte para treino definida em: 2024-01-02\n",
      "LabelEncoder global treinado com 259 classes.\n",
      "Feature Store Histórica (X) recriada com 24447 clientes.\n"
     ]
    }
   ],
   "source": [
    "# Bloco 3: Setup do Corte Temporal e Recriação da Feature Store Histórica (X)\n",
    "# Esta etapa é idêntica à lógica dos Blocos 3, 5 e 6 do notebook 04_v2, \n",
    "# pois precisamos EXATAMENTE do mesmo conjunto de features (X) histórico.\n",
    "\n",
    "print(\"Iniciando recriação da Feature Store Histórica (X)...\")\n",
    "\n",
    "# 1. Definir Corte Temporal (Idêntico ao Bloco 3 do 04_v2)\n",
    "ultima_data = df_sales['data_venda'].max()\n",
    "data_corte = ultima_data - pd.Timedelta(days=90)\n",
    "df_treino = df_sales[df_sales['data_venda'] <= data_corte].copy()\n",
    "df_futuro = df_sales[df_sales['data_venda'] > data_corte]\n",
    "snapshot_date_treino = data_corte + pd.Timedelta(days=1)\n",
    "print(f\"Data de corte para treino definida em: {data_corte.date()}\")\n",
    "\n",
    "# 2. Recriar LabelEncoder global (Idêntico ao Bloco 5 do 04_v2)\n",
    "le = LabelEncoder()\n",
    "all_viacao_hashes = df_sales['fk_departure_ota_bus_company'].fillna('0').unique()\n",
    "le.fit(all_viacao_hashes)\n",
    "print(f\"LabelEncoder global treinado com {len(le.classes_)} classes.\")\n",
    "\n",
    "# 3. Recriar Features Avançadas (Idêntico ao Bloco 5 e 6 do 04_v2)\n",
    "df_treino['viaja_sozinho'] = (df_treino['total_tickets_quantity_success'] == 1).astype(int)\n",
    "df_treino['compra_fds'] = (df_treino['data_venda'].dt.dayofweek >= 5).astype(int)\n",
    "df_treino['taxa_ida_e_volta'] = (df_treino['place_origin_return'] != '0').astype(int)\n",
    "\n",
    "agg_base = {\n",
    "    'data_venda': [lambda date: (snapshot_date_treino - date.max()).days, 'min', 'max'],\n",
    "    'id_cliente': 'count',\n",
    "    'valor_venda': 'sum',\n",
    "    'produto': 'nunique',\n",
    "    'fk_departure_ota_bus_company': lambda x: x.mode().iloc[0] if not x.mode().empty else np.nan\n",
    "}\n",
    "agg_comportamento = {\n",
    "    'viaja_sozinho': 'mean',\n",
    "    'compra_fds': 'mean',\n",
    "    'taxa_ida_e_volta': 'mean'\n",
    "}\n",
    "df_features_treino = df_treino.groupby('id_cliente').agg({**agg_base, **agg_comportamento})\n",
    "\n",
    "# Renomear e Limpar\n",
    "df_features_treino.columns = [\n",
    "    'Recencia', 'Data_Primeira_Compra', 'Data_Ultima_Compra', 'Frequencia', 'ValorMonetario',\n",
    "    'Rotas_Distintas', 'Viacao_Favorita_Hash', 'pct_viagens_sozinho', 'pct_compras_fds', 'taxa_ida_e_volta'\n",
    "]\n",
    "df_features_treino['Ticket_Medio'] = df_features_treino['ValorMonetario'] / df_features_treino['Frequencia']\n",
    "df_features_treino['Tenure'] = (snapshot_date_treino - df_features_treino['Data_Primeira_Compra']).dt.days\n",
    "df_features_treino = df_features_treino.drop(columns=['Data_Primeira_Compra', 'Data_Ultima_Compra'])\n",
    "df_features_treino.fillna(0, inplace=True)\n",
    "df_features_treino['Viacao_Favorita_ID'] = le.transform(df_features_treino['Viacao_Favorita_Hash'])\n",
    "df_features_treino = df_features_treino.drop(columns=['Viacao_Favorita_Hash'])\n",
    "\n",
    "# 4. Definir o X Histórico (df_modelo do notebook 04_v2)\n",
    "# (Este DF contém as features (X) de TODOS os clientes históricos, até a data_corte)\n",
    "df_modelo_base_features = df_features_treino.copy()\n",
    "print(f\"Feature Store Histórica (X) recriada com {len(df_modelo_base_features)} clientes.\")"
   ]
  },
  {
   "cell_type": "markdown",
   "id": "f0d51666",
   "metadata": {},
   "source": [
    "# Bloco 4: Engenharia da Variável-Alvo de REGRESSÃO (y_reg)"
   ]
  },
  {
   "cell_type": "code",
   "execution_count": 4,
   "id": "a52ece9d",
   "metadata": {},
   "outputs": [
    {
     "name": "stdout",
     "output_type": "stream",
     "text": [
      "Iniciando engenharia da variável-alvo de regressão (y_reg)...\n",
      "Dataset de treino de regressão criado com 864 clientes recorrentes.\n"
     ]
    },
    {
     "data": {
      "text/plain": [
       "count    864.000000\n",
       "mean      38.084491\n",
       "std       27.394014\n",
       "min        0.000000\n",
       "25%       13.000000\n",
       "50%       33.000000\n",
       "75%       63.000000\n",
       "max       89.000000\n",
       "Name: dias_ate_proxima_compra, dtype: float64"
      ]
     },
     "metadata": {},
     "output_type": "display_data"
    }
   ],
   "source": [
    "# Bloco 4: Engenharia da Variável-Alvo de REGRESSÃO (y_reg)\n",
    "# Esta é a parte NOVA. Vamos criar nosso alvo \"dias_ate_proxima_compra\"\n",
    "\n",
    "print(\"Iniciando engenharia da variável-alvo de regressão (y_reg)...\")\n",
    "\n",
    "# 1. Encontrar a PRIMEIRA data de compra de CADA cliente no período 'futuro'\n",
    "df_primeira_compra_futura = df_futuro.groupby('id_cliente')['data_venda'].min().reset_index()\n",
    "df_primeira_compra_futura.rename(columns={'data_venda': 'data_primeira_compra_futura'}, inplace=True)\n",
    "\n",
    "# 2. Juntar essa data futura às nossas features históricas\n",
    "df_regressao_data = df_modelo_base_features.merge(\n",
    "    df_primeira_compra_futura, \n",
    "    left_index=True, \n",
    "    right_on='id_cliente', \n",
    "    how='left'\n",
    ")\n",
    "df_regressao_data.set_index('id_cliente', inplace=True)\n",
    "\n",
    "# 3. Calcular o Alvo (y): A diferença em dias entre a data de corte e a primeira compra futura\n",
    "df_regressao_data['dias_ate_proxima_compra'] = (df_regressao_data['data_primeira_compra_futura'] - data_corte).dt.days\n",
    "\n",
    "# 4. Criar o Dataset de Treino de Regressão:\n",
    "# Para este modelo, treinamos APENAS em clientes que RETORNARAM (aqueles onde 'dias_ate_proxima_compra' não é Nulo)\n",
    "df_regressao_treino = df_regressao_data.dropna(subset=['dias_ate_proxima_compra'])\n",
    "\n",
    "print(f\"Dataset de treino de regressão criado com {len(df_regressao_treino)} clientes recorrentes.\")\n",
    "\n",
    "# 5. Definir nosso X e y finais para o modelo de regressão\n",
    "FEATURES = [\n",
    "    'Recencia', 'Frequencia', 'ValorMonetario', 'Rotas_Distintas', \n",
    "    'Viacao_Favorita_ID', 'pct_viagens_sozinho', 'pct_compras_fds', \n",
    "    'taxa_ida_e_volta', 'Ticket_Medio', 'Tenure'\n",
    "] # As mesmas features do notebook 04_v2\n",
    "\n",
    "X_reg = df_regressao_treino[FEATURES]\n",
    "y_reg = df_regressao_treino['dias_ate_proxima_compra']\n",
    "\n",
    "display(y_reg.describe())"
   ]
  },
  {
   "cell_type": "markdown",
   "id": "93b13eab",
   "metadata": {},
   "source": [
    "# Bloco 5: Otimização de Hiperparâmetros (XGBRegressor)\n"
   ]
  },
  {
   "cell_type": "code",
   "execution_count": 5,
   "id": "34ad9fc7",
   "metadata": {},
   "outputs": [
    {
     "name": "stdout",
     "output_type": "stream",
     "text": [
      "--- Iniciando Otimização de Hiperparâmetros para XGBRegressor ---\n",
      "Fitting 3 folds for each of 25 candidates, totalling 75 fits\n",
      "\n",
      "Melhores parâmetros encontrados para Regressão: {'subsample': 0.9, 'n_estimators': 100, 'max_depth': 5, 'learning_rate': 0.01, 'gamma': 0.2, 'colsample_bytree': 0.8}\n"
     ]
    }
   ],
   "source": [
    "# Bloco 5: Otimização de Hiperparâmetros (XGBRegressor)\n",
    "\n",
    "print(\"--- Iniciando Otimização de Hiperparâmetros para XGBRegressor ---\")\n",
    "\n",
    "# 1. Dividir os dados de REGRESSÃO em treino/teste\n",
    "X_train, X_test, y_train, y_test = train_test_split(X_reg, y_reg, test_size=0.2, random_state=42)\n",
    "\n",
    "# 2. Definir a Grade de Parâmetros (pode ser a mesma do classificador)\n",
    "param_dist = {\n",
    "    'max_depth': [3, 4, 5, 6, 7],\n",
    "    'learning_rate': [0.01, 0.05, 0.1],\n",
    "    'n_estimators': [100, 200, 300],\n",
    "    'subsample': [0.7, 0.8, 0.9, 1.0],\n",
    "    'colsample_bytree': [0.7, 0.8, 0.9, 1.0],\n",
    "    'gamma': [0, 0.1, 0.2]\n",
    "}\n",
    "\n",
    "# 3. Configurar o XGBRegressor\n",
    "xgb_reg = xgb.XGBRegressor(random_state=42, objective='reg:squarederror', eval_metric='rmse')\n",
    "\n",
    "# 4. Configurar o RandomizedSearchCV (Trocando o 'scoring'!)\n",
    "# Usamos 'neg_root_mean_squared_error' para otimizar o RMSE (quanto menor, melhor)\n",
    "random_search_reg = RandomizedSearchCV(\n",
    "    xgb_reg, \n",
    "    param_distributions=param_dist, \n",
    "    n_iter=25, \n",
    "    cv=3, \n",
    "    scoring='neg_root_mean_squared_error',  # Métrica de Regressão\n",
    "    random_state=42, \n",
    "    n_jobs=-1,\n",
    "    verbose=1\n",
    ")\n",
    "\n",
    "random_search_reg.fit(X_train, y_train)\n",
    "\n",
    "# 5. Capturar o MELHOR modelo de regressão\n",
    "best_model_reg = random_search_reg.best_estimator_\n",
    "print(f\"\\nMelhores parâmetros encontrados para Regressão: {random_search_reg.best_params_}\")"
   ]
  },
  {
   "cell_type": "markdown",
   "id": "649c0061",
   "metadata": {},
   "source": [
    "# Bloco 6: Avaliação do Modelo Otimizado (Regressão)\n"
   ]
  },
  {
   "cell_type": "code",
   "execution_count": 6,
   "id": "393f29ec",
   "metadata": {},
   "outputs": [
    {
     "name": "stdout",
     "output_type": "stream",
     "text": [
      "\n",
      "--- Avaliação do Modelo OTIMIZADO (Regressão) no conjunto de Teste ---\n",
      "RMSE (Root Mean Squared Error): 25.99 dias\n",
      "MAE (Mean Absolute Error): 22.61 dias\n",
      "R² Score: -0.0473\n"
     ]
    },
    {
     "data": {
      "image/png": "[encoded data removed]",
      "text/plain": [
       "<Figure size 800x600 with 1 Axes>"
      ]
     },
     "metadata": {},
     "output_type": "display_data"
    }
   ],
   "source": [
    "# Bloco 6: Avaliação do Modelo Otimizado (Regressão)\n",
    "\n",
    "print(\"\\n--- Avaliação do Modelo OTIMIZADO (Regressão) no conjunto de Teste ---\")\n",
    "\n",
    "y_pred_reg = best_model_reg.predict(X_test)\n",
    "\n",
    "# Calcular Métricas de Regressão\n",
    "rmse = np.sqrt(mean_squared_error(y_test, y_pred_reg))\n",
    "mae = mean_absolute_error(y_test, y_pred_reg)\n",
    "r2 = r2_score(y_test, y_pred_reg)\n",
    "\n",
    "print(f\"RMSE (Root Mean Squared Error): {rmse:.2f} dias\")\n",
    "print(f\"MAE (Mean Absolute Error): {mae:.2f} dias\")\n",
    "print(f\"R² Score: {r2:.4f}\")\n",
    "\n",
    "# Visualização Rápida: Previsto vs. Real\n",
    "plt.figure(figsize=(8, 6))\n",
    "sns.scatterplot(x=y_test, y=y_pred_reg, alpha=0.5)\n",
    "plt.plot([y_test.min(), y_test.max()], [y_test.min(), y_test.max()], '--r', linewidth=2) # Linha de referência perfeita\n",
    "plt.title(f'Real vs. Previsto (Dias até Próxima Compra) - MAE: {mae:.2f} dias')\n",
    "plt.xlabel('Dias Reais')\n",
    "plt.ylabel('Dias Previstos')\n",
    "plt.show()"
   ]
  },
  {
   "cell_type": "markdown",
   "id": "8212f7ca",
   "metadata": {},
   "source": [
    "# Bloco 7: Treino FINAL e Atualização do customers.parquet\n"
   ]
  },
  {
   "cell_type": "code",
   "execution_count": 7,
   "id": "bac73062",
   "metadata": {},
   "outputs": [
    {
     "name": "stdout",
     "output_type": "stream",
     "text": [
      "--- Iniciando etapa final: Treinando regressor final e atualizando customers.parquet ---\n",
      "Treinando modelo FINAL de Regressão com 100% dos dados de clientes recorrentes...\n",
      "Modelo de Regressão final treinado!\n",
      "Recriando features agregadas para a base de clientes COMPLETA (Produção)...\n",
      "Gerando previsões de dias para todos os clientes...\n",
      "\n",
      "SUCESSO! Arquivo '../data/redis/customers.parquet' foi atualizado com as previsões de regressão.\n"
     ]
    },
    {
     "data": {
      "text/html": [
       "<div>\n",
       "<style scoped>\n",
       "    .dataframe tbody tr th:only-of-type {\n",
       "        vertical-align: middle;\n",
       "    }\n",
       "\n",
       "    .dataframe tbody tr th {\n",
       "        vertical-align: top;\n",
       "    }\n",
       "\n",
       "    .dataframe thead th {\n",
       "        text-align: right;\n",
       "    }\n",
       "</style>\n",
       "<table border=\"1\" class=\"dataframe\">\n",
       "  <thead>\n",
       "    <tr style=\"text-align: right;\">\n",
       "      <th></th>\n",
       "      <th>nome_cliente</th>\n",
       "      <th>segmento</th>\n",
       "      <th>prob_compra_30d</th>\n",
       "      <th>data_prox_viagem</th>\n",
       "    </tr>\n",
       "  </thead>\n",
       "  <tbody>\n",
       "    <tr>\n",
       "      <th>0</th>\n",
       "      <td>Matheus Porto</td>\n",
       "      <td>Perdidos</td>\n",
       "      <td>0.53</td>\n",
       "      <td>39 Dias</td>\n",
       "    </tr>\n",
       "    <tr>\n",
       "      <th>1</th>\n",
       "      <td>Diego da Cruz</td>\n",
       "      <td>Fiéis</td>\n",
       "      <td>0.13</td>\n",
       "      <td>41 Dias</td>\n",
       "    </tr>\n",
       "    <tr>\n",
       "      <th>2</th>\n",
       "      <td>Luan Gonçalves</td>\n",
       "      <td>Fiéis</td>\n",
       "      <td>0.19</td>\n",
       "      <td>43 Dias</td>\n",
       "    </tr>\n",
       "    <tr>\n",
       "      <th>3</th>\n",
       "      <td>Eduardo Gomes</td>\n",
       "      <td>Fiéis</td>\n",
       "      <td>0.10</td>\n",
       "      <td>38 Dias</td>\n",
       "    </tr>\n",
       "    <tr>\n",
       "      <th>4</th>\n",
       "      <td>Sophie Garcia</td>\n",
       "      <td>Perdidos</td>\n",
       "      <td>0.26</td>\n",
       "      <td>42 Dias</td>\n",
       "    </tr>\n",
       "  </tbody>\n",
       "</table>\n",
       "</div>"
      ],
      "text/plain": [
       "     nome_cliente  segmento  prob_compra_30d data_prox_viagem\n",
       "0   Matheus Porto  Perdidos             0.53          39 Dias\n",
       "1   Diego da Cruz     Fiéis             0.13          41 Dias\n",
       "2  Luan Gonçalves     Fiéis             0.19          43 Dias\n",
       "3   Eduardo Gomes     Fiéis             0.10          38 Dias\n",
       "4   Sophie Garcia  Perdidos             0.26          42 Dias"
      ]
     },
     "metadata": {},
     "output_type": "display_data"
    }
   ],
   "source": [
    "# Bloco 7: Treino FINAL e Atualização do customers.parquet\n",
    "# Agora treinamos o melhor regressor nos dados completos (X_reg, y_reg)\n",
    "# e usamos ele para PREVER em TODA a base de clientes (usando a 'Feature Store de Produção' do 04_v2)\n",
    "\n",
    "print(\"--- Iniciando etapa final: Treinando regressor final e atualizando customers.parquet ---\")\n",
    "\n",
    "# 1. Treinar o modelo FINAL com os melhores parâmetros em TODOS os dados de regressão (X_reg, y_reg)\n",
    "print(\"Treinando modelo FINAL de Regressão com 100% dos dados de clientes recorrentes...\")\n",
    "model_FINAL_reg = random_search_reg.best_estimator_\n",
    "model_FINAL_reg.fit(X_reg, y_reg)\n",
    "print(\"Modelo de Regressão final treinado!\")\n",
    "\n",
    "# 2. Preparar as features de PRODUÇÃO (Idêntico ao Bloco 11 do 04_v2)\n",
    "# Precisamos das features atuais de TODOS os clientes para prever o futuro deles.\n",
    "print(\"Recriando features agregadas para a base de clientes COMPLETA (Produção)...\")\n",
    "df_sales['viaja_sozinho'] = (df_sales['total_tickets_quantity_success'] == 1).astype(int)\n",
    "df_sales['compra_fds'] = (df_sales['data_venda'].dt.dayofweek >= 5).astype(int)\n",
    "df_sales['taxa_ida_e_volta'] = (df_sales['place_origin_return'] != '0').astype(int)\n",
    "snapshot_date_final = df_sales['data_venda'].max() + pd.Timedelta(days=1)\n",
    "agg_final_base = {\n",
    "    'data_venda': ['min', 'max'],\n",
    "    'id_cliente': 'count',\n",
    "    'valor_venda': 'sum',\n",
    "    'produto': 'nunique',\n",
    "    'fk_departure_ota_bus_company': lambda x: x.mode().iloc[0] if not x.mode().empty else np.nan\n",
    "}\n",
    "agg_final_comportamento = {'viaja_sozinho': 'mean', 'compra_fds': 'mean', 'taxa_ida_e_volta': 'mean'}\n",
    "df_features_finais = df_sales.groupby('id_cliente').agg({**agg_final_base, **agg_final_comportamento})\n",
    "df_features_finais.columns = [\n",
    "    'Data_Primeira_Compra', 'Data_Ultima_Compra', 'Frequencia_calc', 'ValorMonetario_calc',\n",
    "    'Rotas_Distintas', 'Viacao_Favorita_Hash', 'pct_viagens_sozinho', 'pct_compras_fds', 'taxa_ida_e_volta'\n",
    "]\n",
    "# Usando o RFM completo (notebook 03) para as features principais\n",
    "df_features_finais = df_features_finais.merge(df_rfm_completo[['Recencia', 'ValorMonetario', 'Frequencia']], left_index=True, right_index=True)\n",
    "df_features_finais['Ticket_Medio'] = df_features_finais['ValorMonetario'] / df_features_finais['Frequencia']\n",
    "df_features_finais['Tenure'] = (snapshot_date_final - df_features_finais['Data_Primeira_Compra']).dt.days\n",
    "df_features_finais['Viacao_Favorita_ID'] = le.transform(df_features_finais['Viacao_Favorita_Hash'])\n",
    "df_features_finais.fillna(0, inplace=True)\n",
    "X_para_prever_final = df_features_finais[FEATURES] # Este é o nosso X de produção\n",
    "\n",
    "# 3. Gerar Predições FINAIS de Regressão para TODOS os clientes\n",
    "print(\"Gerando previsões de dias para todos os clientes...\")\n",
    "predicoes_dias_final = model_FINAL_reg.predict(X_para_prever_final)\n",
    "\n",
    "# 4. Arredondar e formatar as previsões\n",
    "predicoes_dias_formatado = np.round(predicoes_dias_final, 0).astype(int)\n",
    "\n",
    "# 5. Criar o DataFrame de resultados\n",
    "df_novas_previsoes_dias = pd.DataFrame({\n",
    "    'id_cliente': X_para_prever_final.index,\n",
    "    'data_prox_viagem_calc': predicoes_dias_formatado\n",
    "})\n",
    "# Converter para string para exibir no app (ex: \"45 Dias\")\n",
    "df_novas_previsoes_dias['data_prox_viagem_calc'] = df_novas_previsoes_dias['data_prox_viagem_calc'].astype(str) + \" Dias\"\n",
    "\n",
    "\n",
    "# 6. Atualizar o arquivo customers.parquet\n",
    "# (Carregamos df_customers no Bloco 2)\n",
    "df_customers_atualizado = df_customers.drop(columns=['data_prox_viagem'], errors='ignore')\n",
    "df_customers_atualizado = df_customers_atualizado.merge(df_novas_previsoes_dias, on='id_cliente', how='left')\n",
    "df_customers_atualizado = df_customers_atualizado.rename(columns={'data_prox_viagem_calc': 'data_prox_viagem'})\n",
    "\n",
    "# Garantir que clientes sem previsão de regressão (ex: churned, não estavam no dataset de treino) tenham um placeholder\n",
    "df_customers_atualizado['data_prox_viagem'].fillna(\"N/A (Churn)\", inplace=True)\n",
    "\n",
    "# 7. Salvar\n",
    "df_customers_atualizado.to_parquet(caminho_customers, index=False)\n",
    "\n",
    "print(f\"\\nSUCESSO! Arquivo '{caminho_customers}' foi atualizado com as previsões de regressão.\")\n",
    "display(df_customers_atualizado[['nome_cliente', 'segmento', 'prob_compra_30d', 'data_prox_viagem']].head())\n"
   ]
  }
 ],
 "metadata": {
  "kernelspec": {
   "display_name": "Python (.venv)",
   "language": "python",
   "name": "fiap_sulistas_venv"
  },
  "language_info": {
   "codemirror_mode": {
    "name": "ipython",
    "version": 3
   },
   "file_extension": ".py",
   "mimetype": "text/x-python",
   "name": "python",
   "nbconvert_exporter": "python",
   "pygments_lexer": "ipython3",
   "version": "3.9.6"
  }
 },
 "nbformat": 4,
 "nbformat_minor": 5
}
