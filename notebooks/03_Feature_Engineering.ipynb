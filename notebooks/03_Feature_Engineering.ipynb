{
 "cells": [
  {
   "cell_type": "markdown",
   "id": "d67467d2",
   "metadata": {},
   "source": [
    "Bloco 1: Instalação de Dependências"
   ]
  },
  {
   "cell_type": "code",
   "execution_count": null,
   "id": "e394f366",
   "metadata": {},
   "outputs": [],
   "source": [
    "import sys\n",
    "!{sys.executable} -m pip install pyarrow"
   ]
  },
  {
   "cell_type": "markdown",
   "id": "7956aa61",
   "metadata": {},
   "source": [
    "Bloco 2: Importação de Bibliotecas"
   ]
  },
  {
   "cell_type": "code",
   "execution_count": null,
   "id": "2e286637",
   "metadata": {},
   "outputs": [],
   "source": [
    "import pandas as pd\n",
    "import numpy as np\n",
    "import json"
   ]
  },
  {
   "cell_type": "markdown",
   "id": "781a7f62",
   "metadata": {},
   "source": [
    "Bloco 3: Carregamento dos Dados Processados"
   ]
  },
  {
   "cell_type": "code",
   "execution_count": null,
   "id": "0070dc73",
   "metadata": {},
   "outputs": [],
   "source": [
    "caminho_dados_limpos = '../data/processed/dados_limpos.parquet'\n",
    "df = pd.read_parquet(caminho_dados_limpos)\n",
    "\n",
    "print(\"Dados limpos carregados com sucesso!\")\n",
    "display(df.head())"
   ]
  },
  {
   "cell_type": "markdown",
   "id": "83cce5d5",
   "metadata": {},
   "source": [
    "Bloco 4: Carregar e Aplicar Aliases (dos Mapas JSON)"
   ]
  },
  {
   "cell_type": "code",
   "execution_count": null,
   "id": "1fe48ab4",
   "metadata": {},
   "outputs": [],
   "source": [
    "# Carregar os dicionários de mapeamento\n",
    "with open('../data/processed/mapa_clientes_alias.json', 'r') as f:\n",
    "    mapa_clientes = json.load(f)\n",
    "with open('../data/processed/mapa_locais_alias.json', 'r') as f:\n",
    "    mapa_locais = json.load(f)\n",
    "\n",
    "print(\"Mapeamentos de alias carregados.\")\n",
    "\n",
    "# Aplicar os aliases para criar novas colunas legíveis\n",
    "df['nome_cliente'] = df['fk_contact'].map(mapa_clientes)\n",
    "df['origem_alias'] = df['place_origin_departure'].map(mapa_locais)\n",
    "df['destino_alias'] = df['place_destination_departure'].map(mapa_locais)\n",
    "\n",
    "# Criar a coluna 'produto' (o trecho legível)\n",
    "df['produto'] = df['origem_alias'] + ' -> ' + df['destino_alias']\n",
    "\n",
    "print(\"Colunas de alias criadas com sucesso!\")\n",
    "display(df[['nome_cliente', 'produto']].head())"
   ]
  },
  {
   "cell_type": "markdown",
   "id": "99685913",
   "metadata": {},
   "source": [
    "Bloco 5: Engenharia de Features de Comportamento"
   ]
  },
  {
   "cell_type": "code",
   "execution_count": null,
   "id": "93281b32",
   "metadata": {},
   "outputs": [],
   "source": [
    "# Feature 1: tipo_viagem (Ida e Volta vs. Só Ida)\n",
    "df['tipo_viagem'] = 'Ida e Volta'\n",
    "df.loc[df['place_origin_return'] == '0', 'tipo_viagem'] = 'Só Ida'\n",
    "\n",
    "# Feature 2: viaja_sozinho\n",
    "df['viaja_sozinho'] = np.where(df['total_tickets_quantity_success'] == 1, 'Sim', 'Não')\n",
    "\n",
    "# Feature 3: compra_fds (Fim de Semana)\n",
    "df['compra_fds'] = np.where(df['datetime_purchase'].dt.dayofweek >= 5, 'Sim', 'Não')\n",
    "\n",
    "# Feature 4: compra_alta_temporada\n",
    "meses_alta_temporada = [12, 1, 7] # Exemplo: Dezembro, Janeiro e Julho\n",
    "df['compra_alta_temporada'] = np.where(df['datetime_purchase'].dt.month.isin(meses_alta_temporada), 'Sim', 'Não')\n",
    "\n",
    "print(\"Novas features de comportamento criadas. Amostra:\")\n",
    "display(df[['fk_contact', 'tipo_viagem', 'viaja_sozinho', 'compra_fds', 'compra_alta_temporada']].head())"
   ]
  },
  {
   "cell_type": "markdown",
   "id": "a0711eae",
   "metadata": {},
   "source": [
    "Bloco 6: Análise RFM (Agregação por Cliente)"
   ]
  },
  {
   "cell_type": "code",
   "execution_count": null,
   "id": "f0946654",
   "metadata": {},
   "outputs": [],
   "source": [
    "# Usamos o dia seguinte à última compra registrada para garantir que todas as recências sejam positivas.\n",
    "snapshot_date = df['datetime_purchase'].max() + pd.Timedelta(days=1)\n",
    "\n",
    "# Agrupando por cliente (fk_contact) e calculando RFM\n",
    "df_rfm = df.groupby('fk_contact').agg(\n",
    "    Recencia=('datetime_purchase', lambda date: (snapshot_date - date.max()).days), # Recência\n",
    "    Frequencia=('nk_ota_localizer_id', 'nunique'), # Frequência (compras únicas)\n",
    "    ValorMonetario=('gmv_success', 'sum') # Valor Monetário\n",
    ")\n",
    "\n",
    "# Renomeando as colunas para o padrão RFM\n",
    "df_rfm.rename(columns={'datetime_purchase': 'Recencia',\n",
    "                       'nk_ota_localizer_id': 'Frequencia',\n",
    "                       'gmv_success': 'ValorMonetario'}, inplace=True)\n",
    "\n",
    "print(\"DataFrame RFM (agregado por cliente) criado com sucesso:\")\n",
    "display(df_rfm.head())"
   ]
  },
  {
   "cell_type": "markdown",
   "id": "b31dd346",
   "metadata": {},
   "source": [
    "Bloco 7: Persistência dos Resultados (Saídas Finais)"
   ]
  },
  {
   "cell_type": "code",
   "execution_count": null,
   "id": "023fab9f",
   "metadata": {},
   "outputs": [],
   "source": [
    "# --- Saída A: O log de VENDAS (transacional) completo, agora limpo e com aliases.\n",
    "# (Usado pelo app.py e pelo Notebook 06_Recommendation_Model)\n",
    "print(\"Alinhando e salvando o arquivo de vendas para o frontend...\")\n",
    "caminho_sales = '../data/redis/sales.parquet'\n",
    "\n",
    "# Renomeando colunas-chave para o padrão do app\n",
    "df_para_app = df.rename(columns={\n",
    "    'fk_contact': 'id_cliente',\n",
    "    'datetime_purchase': 'data_venda',\n",
    "    'gmv_success': 'valor_venda'\n",
    "})\n",
    "\n",
    "df_para_app.to_parquet(caminho_sales, index=False)\n",
    "print(f\"--> Arquivo 'sales.parquet' salvo em: '{caminho_sales}'\")\n",
    "\n",
    "\n",
    "# --- Saída B: O arquivo AGREGADO (RFM)\n",
    "# (Usado pelo Notebook 04_Segmentation_Model)\n",
    "print(\"\\nSalvando o arquivo com as features RFM...\")\n",
    "caminho_rfm = '../data/curated/rfm_features.parquet'\n",
    "df_rfm.to_parquet(caminho_rfm)\n",
    "print(f\"--> Arquivo RFM ('rfm_features.parquet') salvo em: '{caminho_rfm}'\")"
   ]
  }
 ],
 "metadata": {
  "kernelspec": {
   "display_name": "Python 3",
   "language": "python",
   "name": "python3"
  },
  "language_info": {
   "codemirror_mode": {
    "name": "ipython",
    "version": 3
   },
   "file_extension": ".py",
   "mimetype": "text/x-python",
   "name": "python",
   "nbconvert_exporter": "python",
   "pygments_lexer": "ipython3",
   "version": "3.9.6"
  }
 },
 "nbformat": 4,
 "nbformat_minor": 5
}
