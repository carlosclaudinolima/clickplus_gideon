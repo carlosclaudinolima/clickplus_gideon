{
 "cells": [
  {
   "cell_type": "code",
   "execution_count": 1,
   "id": "df4d0618",
   "metadata": {},
   "outputs": [
    {
     "name": "stdout",
     "output_type": "stream",
     "text": [
      "Arquivos carregados com sucesso!\n"
     ]
    }
   ],
   "source": [
    "# --- Bloco 1: Carregar Bibliotecas e Dados ---\n",
    "\n",
    "# Importando as bibliotecas necessárias\n",
    "import pandas as pd\n",
    "import numpy as np\n",
    "import joblib\n",
    "from sklearn.decomposition import TruncatedSVD\n",
    "from scipy.sparse import csr_matrix\n",
    "\n",
    "# Carregando os arquivos de dados que já processamos\n",
    "try:\n",
    "    df_sales = pd.read_parquet('../data/redis/sales.parquet')\n",
    "    df_customers = pd.read_parquet('../data/redis/customers.parquet')\n",
    "    print(\"Arquivos carregados com sucesso!\")\n",
    "except FileNotFoundError as e:\n",
    "    print(f\"Erro ao carregar o arquivo: {e}\")"
   ]
  },
  {
   "cell_type": "code",
   "execution_count": 2,
   "id": "ed65e4a2",
   "metadata": {},
   "outputs": [
    {
     "name": "stdout",
     "output_type": "stream",
     "text": [
      "\n",
      "Dados unificados e prontos para a criação das recomendações.\n"
     ]
    }
   ],
   "source": [
    "# --- Bloco 2: Unificar Vendas e Segmentos ---\n",
    "# Unifica os dados de vendas com os segmentos dos clientes\n",
    "df_merged = pd.merge(\n",
    "    df_sales,\n",
    "    df_customers[['id_cliente', 'segmento']],\n",
    "    on='id_cliente',\n",
    "    how='left'\n",
    ")\n",
    "df_merged.dropna(subset=['segmento'], inplace=True)\n",
    "print(\"\\nDados unificados e prontos para a criação das recomendações.\")"
   ]
  },
  {
   "cell_type": "code",
   "execution_count": 3,
   "id": "ab77ba2e",
   "metadata": {},
   "outputs": [
    {
     "name": "stdout",
     "output_type": "stream",
     "text": [
      "\n",
      "Calculando a recomendação de baseline...\n",
      "Recomendação de baseline calculada com sucesso.\n"
     ]
    }
   ],
   "source": [
    "# --- Bloco 3: Calcular o Trecho Mais Popular por Segmento (Baseline) ---\n",
    "print(\"\\nCalculando a recomendação de baseline...\")\n",
    "top_trecho_por_segmento = (\n",
    "    # df_merged.groupby('segmento')['trecho_alias']\n",
    "    df_merged.groupby('segmento')['produto']\n",
    "    .value_counts()\n",
    "    .groupby(level=0)\n",
    "    .head(1)\n",
    "    .reset_index(name='contagem')\n",
    ")\n",
    "mapa_baseline_alias = pd.Series(\n",
    "    #top_trecho_por_segmento.trecho_alias.values, \n",
    "    top_trecho_por_segmento.produto.values, \n",
    "    index=top_trecho_por_segmento.segmento\n",
    ").to_dict()\n",
    "print(\"Recomendação de baseline calculada com sucesso.\")\n"
   ]
  },
  {
   "cell_type": "code",
   "execution_count": 4,
   "id": "0f7560f4",
   "metadata": {},
   "outputs": [
    {
     "name": "stdout",
     "output_type": "stream",
     "text": [
      "\n",
      "Iniciando a construção do modelo de recomendação personalizada (com matriz esparsa)...\n",
      "Matriz esparsa de interações criada com sucesso!\n",
      "Modelo SVD treinado.\n",
      "Matriz de previsões reconstruída.\n"
     ]
    }
   ],
   "source": [
    "# --- Bloco 4: Construir Modelo com Matriz Esparsa (Otimizado) ---\n",
    "print(\"\\nIniciando a construção do modelo de recomendação personalizada (com matriz esparsa)...\")\n",
    "\n",
    "# 1. Mapear IDs e Trechos para Índices numéricos\n",
    "# Criamos um índice numérico único para cada cliente e cada trecho\n",
    "user_map = {id: i for i, id in enumerate(df_merged['id_cliente'].unique())}\n",
    "# trecho_map = {trecho: i for i, trecho in enumerate(df_merged['trecho_alias'].unique())}\n",
    "trecho_map = {trecho: i for i, trecho in enumerate(df_merged['produto'].unique())}\n",
    "\n",
    "# Criamos os mapas inversos para traduzir de volta depois\n",
    "inverse_trecho_map = {i: trecho for trecho, i in trecho_map.items()}\n",
    "\n",
    "# Mapeamos os dados de vendas para os novos índices\n",
    "df_merged['user_idx'] = df_merged['id_cliente'].map(user_map)\n",
    "#df_merged['trecho_idx'] = df_merged['trecho_alias'].map(trecho_map)\n",
    "df_merged['trecho_idx'] = df_merged['produto'].map(trecho_map)\n",
    "\n",
    "# 2. Criar a Matriz Esparsa\n",
    "# Contamos quantas vezes cada usuário comprou cada trecho\n",
    "interactions = df_merged.groupby(['user_idx', 'trecho_idx']).size().reset_index(name='count')\n",
    "# Criamos a matriz esparsa, que é extremamente eficiente em memória\n",
    "sparse_matrix = csr_matrix((interactions['count'], (interactions['user_idx'], interactions['trecho_idx'])), \n",
    "                           shape=(len(user_map), len(trecho_map)))\n",
    "\n",
    "print(\"Matriz esparsa de interações criada com sucesso!\")\n",
    "\n",
    "# 3. Treinar o Modelo TruncatedSVD\n",
    "N_FATORES = 20\n",
    "svd = TruncatedSVD(n_components=N_FATORES, random_state=42)\n",
    "matriz_decomposta = svd.fit_transform(sparse_matrix)\n",
    "print(\"Modelo SVD treinado.\")\n",
    "\n",
    "# 4. Reconstruir a Matriz de Previsões\n",
    "matriz_previsoes = np.dot(matriz_decomposta, svd.components_)\n",
    "print(\"Matriz de previsões reconstruída.\")"
   ]
  },
  {
   "cell_type": "code",
   "execution_count": 5,
   "id": "34c50e0b",
   "metadata": {},
   "outputs": [
    {
     "name": "stdout",
     "output_type": "stream",
     "text": [
      "\n",
      "Iniciando a geração das recomendações finais...\n",
      "\n",
      "Modelo SVD e artefatos salvos em: ../data/redis/modelo_recomendacao_svd.joblib\n",
      "Arquivo 'customers.parquet' atualizado com sucesso com as recomendações!\n"
     ]
    },
    {
     "data": {
      "text/html": [
       "<div>\n",
       "<style scoped>\n",
       "    .dataframe tbody tr th:only-of-type {\n",
       "        vertical-align: middle;\n",
       "    }\n",
       "\n",
       "    .dataframe tbody tr th {\n",
       "        vertical-align: top;\n",
       "    }\n",
       "\n",
       "    .dataframe thead th {\n",
       "        text-align: right;\n",
       "    }\n",
       "</style>\n",
       "<table border=\"1\" class=\"dataframe\">\n",
       "  <thead>\n",
       "    <tr style=\"text-align: right;\">\n",
       "      <th></th>\n",
       "      <th>nome_cliente</th>\n",
       "      <th>segmento</th>\n",
       "      <th>sugestao_prox_produto</th>\n",
       "    </tr>\n",
       "  </thead>\n",
       "  <tbody>\n",
       "    <tr>\n",
       "      <th>0</th>\n",
       "      <td>Hellena Freitas</td>\n",
       "      <td>Perdidos</td>\n",
       "      <td>Pires do Galho -&gt; Jesus</td>\n",
       "    </tr>\n",
       "    <tr>\n",
       "      <th>1</th>\n",
       "      <td>Gael Henrique Viana</td>\n",
       "      <td>Fiéis</td>\n",
       "      <td>Melo -&gt; Ramos</td>\n",
       "    </tr>\n",
       "    <tr>\n",
       "      <th>2</th>\n",
       "      <td>Lucca Abreu</td>\n",
       "      <td>Fiéis</td>\n",
       "      <td>Nogueira de Costa -&gt; Rodrigues Alegre</td>\n",
       "    </tr>\n",
       "    <tr>\n",
       "      <th>3</th>\n",
       "      <td>Benicio Pereira</td>\n",
       "      <td>Fiéis</td>\n",
       "      <td>Melo -&gt; Pires do Galho</td>\n",
       "    </tr>\n",
       "    <tr>\n",
       "      <th>4</th>\n",
       "      <td>Luana Lopes</td>\n",
       "      <td>Perdidos</td>\n",
       "      <td>Pires do Galho -&gt; Albuquerque</td>\n",
       "    </tr>\n",
       "  </tbody>\n",
       "</table>\n",
       "</div>"
      ],
      "text/plain": [
       "          nome_cliente  segmento                  sugestao_prox_produto\n",
       "0      Hellena Freitas  Perdidos                Pires do Galho -> Jesus\n",
       "1  Gael Henrique Viana     Fiéis                          Melo -> Ramos\n",
       "2          Lucca Abreu     Fiéis  Nogueira de Costa -> Rodrigues Alegre\n",
       "3      Benicio Pereira     Fiéis                 Melo -> Pires do Galho\n",
       "4          Luana Lopes  Perdidos          Pires do Galho -> Albuquerque"
      ]
     },
     "metadata": {},
     "output_type": "display_data"
    }
   ],
   "source": [
    "#--- Bloco 5: Gerar Recomendações Finais e Salvar ---\n",
    "print(\"\\nIniciando a geração das recomendações finais...\")\n",
    "\n",
    "def gerar_top_recomendacoes(id_cliente, segmento_cliente):\n",
    "    \"\"\" Gera a melhor recomendação para um cliente usando SVD ou baseline. \"\"\"\n",
    "    if id_cliente not in user_map:\n",
    "        return mapa_baseline_alias.get(segmento_cliente, \"Trecho em Oferta\")\n",
    "\n",
    "    user_idx = user_map[id_cliente]\n",
    "    # Pega a linha de previsões para este usuário\n",
    "    user_predictions = matriz_previsoes[user_idx, :]\n",
    "    \n",
    "    # Obtém os índices dos trechos que o usuário já comprou\n",
    "    known_item_indices = sparse_matrix[user_idx, :].nonzero()[1]\n",
    "    \n",
    "    # Define as previsões para os itens já comprados como um valor muito baixo para que não sejam recomendados\n",
    "    user_predictions[known_item_indices] = -999\n",
    "    \n",
    "    # Encontra o índice do trecho com a maior previsão\n",
    "    top_item_index = np.argmax(user_predictions)\n",
    "    \n",
    "    # Converte o índice de volta para o nome do trecho\n",
    "    return inverse_trecho_map[top_item_index]\n",
    "\n",
    "# Aplica a função para gerar a recomendação para cada cliente.\n",
    "df_customers['sugestao_prox_produto'] = df_customers.apply(\n",
    "    lambda row: gerar_top_recomendacoes(row['id_cliente'], row['segmento']),\n",
    "    axis=1\n",
    ")\n",
    "\n",
    "# --- SALVANDO O MODELO TREINADO E OS DADOS ---\n",
    "caminho_modelo = '../data/redis/modelo_recomendacao_svd.joblib'\n",
    "caminho_customers = '../data/redis/customers.parquet'\n",
    "\n",
    "# Salva o modelo SVD e outros artefatos para uso futuro.\n",
    "joblib.dump({\n",
    "    'svd_model': svd,\n",
    "    'user_map': user_map,\n",
    "    'trecho_map': trecho_map,\n",
    "    'inverse_trecho_map': inverse_trecho_map,\n",
    "    'sparse_matrix': sparse_matrix\n",
    "}, caminho_modelo)\n",
    "\n",
    "# Salva o arquivo de clientes atualizado com as recomendações reais.\n",
    "df_customers.to_parquet(caminho_customers, index=False)\n",
    "\n",
    "print(f\"\\nModelo SVD e artefatos salvos em: {caminho_modelo}\")\n",
    "print(f\"Arquivo 'customers.parquet' atualizado com sucesso com as recomendações!\")\n",
    "display(df_customers[['nome_cliente', 'segmento', 'sugestao_prox_produto']].head())"
   ]
  }
 ],
 "metadata": {
  "kernelspec": {
   "display_name": ".venv",
   "language": "python",
   "name": "python3"
  },
  "language_info": {
   "codemirror_mode": {
    "name": "ipython",
    "version": 3
   },
   "file_extension": ".py",
   "mimetype": "text/x-python",
   "name": "python",
   "nbconvert_exporter": "python",
   "pygments_lexer": "ipython3",
   "version": "3.9.6"
  }
 },
 "nbformat": 4,
 "nbformat_minor": 5
}
