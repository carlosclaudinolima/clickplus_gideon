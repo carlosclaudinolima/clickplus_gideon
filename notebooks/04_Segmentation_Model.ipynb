{
 "cells": [
  {
   "cell_type": "markdown",
   "id": "6f2f016a",
   "metadata": {},
   "source": [
    "Bloco 1: Instalação de Dependências"
   ]
  },
  {
   "cell_type": "code",
   "execution_count": 1,
   "id": "10a62889",
   "metadata": {},
   "outputs": [
    {
     "name": "stdout",
     "output_type": "stream",
     "text": [
      "Requirement already satisfied: pyarrow in /home/ninja/Documentos/clickbuproto/.venv/lib/python3.10/site-packages (20.0.0)\n"
     ]
    }
   ],
   "source": [
    "import sys\n",
    "!{sys.executable} -m pip install pyarrow"
   ]
  },
  {
   "cell_type": "markdown",
   "id": "59d440c1",
   "metadata": {},
   "source": [
    "Bloco 2: Importação de Bibliotecas"
   ]
  },
  {
   "cell_type": "code",
   "execution_count": 2,
   "id": "f9c0fb3a",
   "metadata": {},
   "outputs": [],
   "source": [
    "import pandas as pd\n",
    "import numpy as np \n",
    "from sklearn.preprocessing import StandardScaler\n",
    "from sklearn.cluster import KMeans\n",
    "import matplotlib.pyplot as plt\n",
    "import seaborn as sns\n",
    "import json"
   ]
  },
  {
   "cell_type": "markdown",
   "id": "b99e642d",
   "metadata": {},
   "source": [
    "Bloco 3: Carregar Dados RFM (Entrada para Modelagem)"
   ]
  },
  {
   "cell_type": "code",
   "execution_count": 3,
   "id": "eb121137",
   "metadata": {},
   "outputs": [
    {
     "name": "stdout",
     "output_type": "stream",
     "text": [
      "DataFrame RFM carregado com sucesso e pronto para a modelagem!\n"
     ]
    },
    {
     "data": {
      "text/html": [
       "<div>\n",
       "<style scoped>\n",
       "    .dataframe tbody tr th:only-of-type {\n",
       "        vertical-align: middle;\n",
       "    }\n",
       "\n",
       "    .dataframe tbody tr th {\n",
       "        vertical-align: top;\n",
       "    }\n",
       "\n",
       "    .dataframe thead th {\n",
       "        text-align: right;\n",
       "    }\n",
       "</style>\n",
       "<table border=\"1\" class=\"dataframe\">\n",
       "  <thead>\n",
       "    <tr style=\"text-align: right;\">\n",
       "      <th></th>\n",
       "      <th>Recencia</th>\n",
       "      <th>Frequencia</th>\n",
       "      <th>ValorMonetario</th>\n",
       "    </tr>\n",
       "    <tr>\n",
       "      <th>fk_contact</th>\n",
       "      <th></th>\n",
       "      <th></th>\n",
       "      <th></th>\n",
       "    </tr>\n",
       "  </thead>\n",
       "  <tbody>\n",
       "    <tr>\n",
       "      <th>00007a5d618cd250d7f05766cfe01a8663a3767f1cd669eebe57f83f03b51e3e</th>\n",
       "      <td>485</td>\n",
       "      <td>4</td>\n",
       "      <td>688.48</td>\n",
       "    </tr>\n",
       "    <tr>\n",
       "      <th>00026c6e9ff2f6387766bc6b4b4f1d1a282c60c9976064ea4e0cf8d5163aca98</th>\n",
       "      <td>249</td>\n",
       "      <td>1</td>\n",
       "      <td>79.44</td>\n",
       "    </tr>\n",
       "    <tr>\n",
       "      <th>00026fad47197aa4c6ee22af325a80bf1001209f21021d2755f5cbaf4c453135</th>\n",
       "      <td>373</td>\n",
       "      <td>1</td>\n",
       "      <td>271.79</td>\n",
       "    </tr>\n",
       "    <tr>\n",
       "      <th>0002b73c84f0f22a291226e3aec6596de90488f776ef23e9ba15338caeb935a7</th>\n",
       "      <td>1842</td>\n",
       "      <td>1</td>\n",
       "      <td>35.42</td>\n",
       "    </tr>\n",
       "    <tr>\n",
       "      <th>0003a32718f6bcdb2bf379f645c23e13f56b7b1d43d9531482e987849df7410f</th>\n",
       "      <td>515</td>\n",
       "      <td>1</td>\n",
       "      <td>95.72</td>\n",
       "    </tr>\n",
       "  </tbody>\n",
       "</table>\n",
       "</div>"
      ],
      "text/plain": [
       "                                                    Recencia  Frequencia  \\\n",
       "fk_contact                                                                 \n",
       "00007a5d618cd250d7f05766cfe01a8663a3767f1cd669e...       485           4   \n",
       "00026c6e9ff2f6387766bc6b4b4f1d1a282c60c9976064e...       249           1   \n",
       "00026fad47197aa4c6ee22af325a80bf1001209f21021d2...       373           1   \n",
       "0002b73c84f0f22a291226e3aec6596de90488f776ef23e...      1842           1   \n",
       "0003a32718f6bcdb2bf379f645c23e13f56b7b1d43d9531...       515           1   \n",
       "\n",
       "                                                    ValorMonetario  \n",
       "fk_contact                                                          \n",
       "00007a5d618cd250d7f05766cfe01a8663a3767f1cd669e...          688.48  \n",
       "00026c6e9ff2f6387766bc6b4b4f1d1a282c60c9976064e...           79.44  \n",
       "00026fad47197aa4c6ee22af325a80bf1001209f21021d2...          271.79  \n",
       "0002b73c84f0f22a291226e3aec6596de90488f776ef23e...           35.42  \n",
       "0003a32718f6bcdb2bf379f645c23e13f56b7b1d43d9531...           95.72  "
      ]
     },
     "metadata": {},
     "output_type": "display_data"
    }
   ],
   "source": [
    "# Carregando o arquivo Parquet com as features RFM\n",
    "caminho_rfm = '../data/curated/rfm_features.parquet' \n",
    "df_rfm = pd.read_parquet(caminho_rfm)\n",
    "\n",
    "print(\"DataFrame RFM carregado com sucesso e pronto para a modelagem!\")\n",
    "display(df_rfm.head())"
   ]
  },
  {
   "cell_type": "markdown",
   "id": "341d40a3",
   "metadata": {},
   "source": [
    "Bloco 4: Normalização dos Dados"
   ]
  },
  {
   "cell_type": "code",
   "execution_count": 4,
   "id": "354ad9b9",
   "metadata": {},
   "outputs": [
    {
     "name": "stdout",
     "output_type": "stream",
     "text": [
      "Amostra dos dados após a normalização:\n"
     ]
    },
    {
     "data": {
      "text/html": [
       "<div>\n",
       "<style scoped>\n",
       "    .dataframe tbody tr th:only-of-type {\n",
       "        vertical-align: middle;\n",
       "    }\n",
       "\n",
       "    .dataframe tbody tr th {\n",
       "        vertical-align: top;\n",
       "    }\n",
       "\n",
       "    .dataframe thead th {\n",
       "        text-align: right;\n",
       "    }\n",
       "</style>\n",
       "<table border=\"1\" class=\"dataframe\">\n",
       "  <thead>\n",
       "    <tr style=\"text-align: right;\">\n",
       "      <th></th>\n",
       "      <th>Recencia</th>\n",
       "      <th>Frequencia</th>\n",
       "      <th>ValorMonetario</th>\n",
       "    </tr>\n",
       "    <tr>\n",
       "      <th>fk_contact</th>\n",
       "      <th></th>\n",
       "      <th></th>\n",
       "      <th></th>\n",
       "    </tr>\n",
       "  </thead>\n",
       "  <tbody>\n",
       "    <tr>\n",
       "      <th>00007a5d618cd250d7f05766cfe01a8663a3767f1cd669eebe57f83f03b51e3e</th>\n",
       "      <td>-0.623413</td>\n",
       "      <td>0.182133</td>\n",
       "      <td>0.221159</td>\n",
       "    </tr>\n",
       "    <tr>\n",
       "      <th>00026c6e9ff2f6387766bc6b4b4f1d1a282c60c9976064ea4e0cf8d5163aca98</th>\n",
       "      <td>-0.892285</td>\n",
       "      <td>-0.337049</td>\n",
       "      <td>-0.402672</td>\n",
       "    </tr>\n",
       "    <tr>\n",
       "      <th>00026fad47197aa4c6ee22af325a80bf1001209f21021d2755f5cbaf4c453135</th>\n",
       "      <td>-0.751013</td>\n",
       "      <td>-0.337049</td>\n",
       "      <td>-0.205651</td>\n",
       "    </tr>\n",
       "    <tr>\n",
       "      <th>0002b73c84f0f22a291226e3aec6596de90488f776ef23e9ba15338caeb935a7</th>\n",
       "      <td>0.922606</td>\n",
       "      <td>-0.337049</td>\n",
       "      <td>-0.447761</td>\n",
       "    </tr>\n",
       "    <tr>\n",
       "      <th>0003a32718f6bcdb2bf379f645c23e13f56b7b1d43d9531482e987849df7410f</th>\n",
       "      <td>-0.589234</td>\n",
       "      <td>-0.337049</td>\n",
       "      <td>-0.385997</td>\n",
       "    </tr>\n",
       "  </tbody>\n",
       "</table>\n",
       "</div>"
      ],
      "text/plain": [
       "                                                    Recencia  Frequencia  \\\n",
       "fk_contact                                                                 \n",
       "00007a5d618cd250d7f05766cfe01a8663a3767f1cd669e... -0.623413    0.182133   \n",
       "00026c6e9ff2f6387766bc6b4b4f1d1a282c60c9976064e... -0.892285   -0.337049   \n",
       "00026fad47197aa4c6ee22af325a80bf1001209f21021d2... -0.751013   -0.337049   \n",
       "0002b73c84f0f22a291226e3aec6596de90488f776ef23e...  0.922606   -0.337049   \n",
       "0003a32718f6bcdb2bf379f645c23e13f56b7b1d43d9531... -0.589234   -0.337049   \n",
       "\n",
       "                                                    ValorMonetario  \n",
       "fk_contact                                                          \n",
       "00007a5d618cd250d7f05766cfe01a8663a3767f1cd669e...        0.221159  \n",
       "00026c6e9ff2f6387766bc6b4b4f1d1a282c60c9976064e...       -0.402672  \n",
       "00026fad47197aa4c6ee22af325a80bf1001209f21021d2...       -0.205651  \n",
       "0002b73c84f0f22a291226e3aec6596de90488f776ef23e...       -0.447761  \n",
       "0003a32718f6bcdb2bf379f645c23e13f56b7b1d43d9531...       -0.385997  "
      ]
     },
     "metadata": {},
     "output_type": "display_data"
    }
   ],
   "source": [
    "# Inicializando o normalizador\n",
    "scaler = StandardScaler()\n",
    "\n",
    "# Aplicando a normalização nos dados do df_rfm\n",
    "df_rfm_scaled_array = scaler.fit_transform(df_rfm)\n",
    "\n",
    "# Convertendo o array de volta para um DataFrame do Pandas\n",
    "df_rfm_scaled = pd.DataFrame(df_rfm_scaled_array, index=df_rfm.index, columns=df_rfm.columns)\n",
    "\n",
    "print(\"Amostra dos dados após a normalização:\")\n",
    "display(df_rfm_scaled.head())"
   ]
  },
  {
   "cell_type": "markdown",
   "id": "7810f422",
   "metadata": {},
   "source": [
    "Bloco 5: Método do Cotovelo (Elbow Method)"
   ]
  },
  {
   "cell_type": "code",
   "execution_count": 5,
   "id": "cf19b853",
   "metadata": {},
   "outputs": [
    {
     "data": {
      "image/png": "[encoded data removed]",
      "text/plain": [
       "<Figure size 1000x600 with 1 Axes>"
      ]
     },
     "metadata": {},
     "output_type": "display_data"
    }
   ],
   "source": [
    "# Lista para guardar os valores de inércia\n",
    "inertia = []\n",
    "range_n_clusters = range(1, 11) # Vamos testar de 1 a 10 clusters\n",
    "\n",
    "for n_clusters in range_n_clusters:\n",
    "    # Cria e treina o modelo K-Means\n",
    "    kmeans = KMeans(n_clusters=n_clusters, random_state=42, n_init='auto')\n",
    "    kmeans.fit(df_rfm_scaled)\n",
    "    \n",
    "    # Guarda a inércia do modelo treinado\n",
    "    inertia.append(kmeans.inertia_)\n",
    "\n",
    "# Plotando o gráfico do cotovelo\n",
    "plt.figure(figsize=(10, 6))\n",
    "plt.plot(range_n_clusters, inertia, marker='o', linestyle='--')\n",
    "plt.title('Método do Cotovelo')\n",
    "plt.xlabel('Número de Clusters')\n",
    "plt.ylabel('Inércia')\n",
    "plt.xticks(range_n_clusters)\n",
    "plt.grid(True)\n",
    "plt.show()"
   ]
  },
  {
   "cell_type": "markdown",
   "id": "c19b0398",
   "metadata": {},
   "source": [
    "Bloco 6: Aplicação do Modelo K-Means Final"
   ]
  },
  {
   "cell_type": "code",
   "execution_count": 6,
   "id": "9b7f057b",
   "metadata": {},
   "outputs": [
    {
     "name": "stdout",
     "output_type": "stream",
     "text": [
      "DataFrame RFM com os clientes devidamente clusterizados:\n"
     ]
    },
    {
     "data": {
      "text/html": [
       "<div>\n",
       "<style scoped>\n",
       "    .dataframe tbody tr th:only-of-type {\n",
       "        vertical-align: middle;\n",
       "    }\n",
       "\n",
       "    .dataframe tbody tr th {\n",
       "        vertical-align: top;\n",
       "    }\n",
       "\n",
       "    .dataframe thead th {\n",
       "        text-align: right;\n",
       "    }\n",
       "</style>\n",
       "<table border=\"1\" class=\"dataframe\">\n",
       "  <thead>\n",
       "    <tr style=\"text-align: right;\">\n",
       "      <th></th>\n",
       "      <th>Recencia</th>\n",
       "      <th>Frequencia</th>\n",
       "      <th>ValorMonetario</th>\n",
       "      <th>Cluster</th>\n",
       "    </tr>\n",
       "    <tr>\n",
       "      <th>fk_contact</th>\n",
       "      <th></th>\n",
       "      <th></th>\n",
       "      <th></th>\n",
       "      <th></th>\n",
       "    </tr>\n",
       "  </thead>\n",
       "  <tbody>\n",
       "    <tr>\n",
       "      <th>00007a5d618cd250d7f05766cfe01a8663a3767f1cd669eebe57f83f03b51e3e</th>\n",
       "      <td>485</td>\n",
       "      <td>4</td>\n",
       "      <td>688.48</td>\n",
       "      <td>1</td>\n",
       "    </tr>\n",
       "    <tr>\n",
       "      <th>00026c6e9ff2f6387766bc6b4b4f1d1a282c60c9976064ea4e0cf8d5163aca98</th>\n",
       "      <td>249</td>\n",
       "      <td>1</td>\n",
       "      <td>79.44</td>\n",
       "      <td>1</td>\n",
       "    </tr>\n",
       "    <tr>\n",
       "      <th>00026fad47197aa4c6ee22af325a80bf1001209f21021d2755f5cbaf4c453135</th>\n",
       "      <td>373</td>\n",
       "      <td>1</td>\n",
       "      <td>271.79</td>\n",
       "      <td>1</td>\n",
       "    </tr>\n",
       "    <tr>\n",
       "      <th>0002b73c84f0f22a291226e3aec6596de90488f776ef23e9ba15338caeb935a7</th>\n",
       "      <td>1842</td>\n",
       "      <td>1</td>\n",
       "      <td>35.42</td>\n",
       "      <td>0</td>\n",
       "    </tr>\n",
       "    <tr>\n",
       "      <th>0003a32718f6bcdb2bf379f645c23e13f56b7b1d43d9531482e987849df7410f</th>\n",
       "      <td>515</td>\n",
       "      <td>1</td>\n",
       "      <td>95.72</td>\n",
       "      <td>1</td>\n",
       "    </tr>\n",
       "  </tbody>\n",
       "</table>\n",
       "</div>"
      ],
      "text/plain": [
       "                                                    Recencia  Frequencia  \\\n",
       "fk_contact                                                                 \n",
       "00007a5d618cd250d7f05766cfe01a8663a3767f1cd669e...       485           4   \n",
       "00026c6e9ff2f6387766bc6b4b4f1d1a282c60c9976064e...       249           1   \n",
       "00026fad47197aa4c6ee22af325a80bf1001209f21021d2...       373           1   \n",
       "0002b73c84f0f22a291226e3aec6596de90488f776ef23e...      1842           1   \n",
       "0003a32718f6bcdb2bf379f645c23e13f56b7b1d43d9531...       515           1   \n",
       "\n",
       "                                                    ValorMonetario  Cluster  \n",
       "fk_contact                                                                   \n",
       "00007a5d618cd250d7f05766cfe01a8663a3767f1cd669e...          688.48        1  \n",
       "00026c6e9ff2f6387766bc6b4b4f1d1a282c60c9976064e...           79.44        1  \n",
       "00026fad47197aa4c6ee22af325a80bf1001209f21021d2...          271.79        1  \n",
       "0002b73c84f0f22a291226e3aec6596de90488f776ef23e...           35.42        0  \n",
       "0003a32718f6bcdb2bf379f645c23e13f56b7b1d43d9531...           95.72        1  "
      ]
     },
     "metadata": {},
     "output_type": "display_data"
    }
   ],
   "source": [
    "# Definindo o número de clusters com base na análise do gráfico\n",
    "numero_ideal_clusters = 4\n",
    "\n",
    "# Criando e treinando o modelo K-Means definitivo\n",
    "kmeans = KMeans(n_clusters=numero_ideal_clusters, random_state=42, n_init='auto')\n",
    "kmeans.fit(df_rfm_scaled) # Usamos os dados normalizados para treinar\n",
    "\n",
    "# Adicionando uma nova coluna com o rótulo do cluster ao DataFrame RFM ORIGINAL (não normalizado)\n",
    "df_rfm['Cluster'] = kmeans.labels_\n",
    "\n",
    "print(\"DataFrame RFM com os clientes devidamente clusterizados:\")\n",
    "display(df_rfm.head())"
   ]
  },
  {
   "cell_type": "markdown",
   "id": "4e2662cb",
   "metadata": {},
   "source": [
    "Bloco 7: Análise e Interpretação dos Clusters"
   ]
  },
  {
   "cell_type": "code",
   "execution_count": 7,
   "id": "01a6c860",
   "metadata": {},
   "outputs": [
    {
     "name": "stdout",
     "output_type": "stream",
     "text": [
      "Análise dos Clusters:\n"
     ]
    },
    {
     "data": {
      "text/html": [
       "<div>\n",
       "<style scoped>\n",
       "    .dataframe tbody tr th:only-of-type {\n",
       "        vertical-align: middle;\n",
       "    }\n",
       "\n",
       "    .dataframe tbody tr th {\n",
       "        vertical-align: top;\n",
       "    }\n",
       "\n",
       "    .dataframe thead th {\n",
       "        text-align: right;\n",
       "    }\n",
       "</style>\n",
       "<table border=\"1\" class=\"dataframe\">\n",
       "  <thead>\n",
       "    <tr style=\"text-align: right;\">\n",
       "      <th></th>\n",
       "      <th>Recencia_Media</th>\n",
       "      <th>Frequencia_Media</th>\n",
       "      <th>ValorMonetario_Medio</th>\n",
       "      <th>Contagem_Clientes</th>\n",
       "    </tr>\n",
       "    <tr>\n",
       "      <th>Cluster</th>\n",
       "      <th></th>\n",
       "      <th></th>\n",
       "      <th></th>\n",
       "      <th></th>\n",
       "    </tr>\n",
       "  </thead>\n",
       "  <tbody>\n",
       "    <tr>\n",
       "      <th>0</th>\n",
       "      <td>2152.34</td>\n",
       "      <td>1.63</td>\n",
       "      <td>262.77</td>\n",
       "      <td>21643</td>\n",
       "    </tr>\n",
       "    <tr>\n",
       "      <th>1</th>\n",
       "      <td>539.59</td>\n",
       "      <td>2.42</td>\n",
       "      <td>397.98</td>\n",
       "      <td>45433</td>\n",
       "    </tr>\n",
       "    <tr>\n",
       "      <th>2</th>\n",
       "      <td>241.48</td>\n",
       "      <td>106.66</td>\n",
       "      <td>20861.70</td>\n",
       "      <td>56</td>\n",
       "    </tr>\n",
       "    <tr>\n",
       "      <th>3</th>\n",
       "      <td>355.10</td>\n",
       "      <td>20.35</td>\n",
       "      <td>2999.58</td>\n",
       "      <td>2686</td>\n",
       "    </tr>\n",
       "  </tbody>\n",
       "</table>\n",
       "</div>"
      ],
      "text/plain": [
       "         Recencia_Media  Frequencia_Media  ValorMonetario_Medio  \\\n",
       "Cluster                                                           \n",
       "0               2152.34              1.63                262.77   \n",
       "1                539.59              2.42                397.98   \n",
       "2                241.48            106.66              20861.70   \n",
       "3                355.10             20.35               2999.58   \n",
       "\n",
       "         Contagem_Clientes  \n",
       "Cluster                     \n",
       "0                    21643  \n",
       "1                    45433  \n",
       "2                       56  \n",
       "3                     2686  "
      ]
     },
     "metadata": {},
     "output_type": "display_data"
    }
   ],
   "source": [
    "# Agrupamos por 'Cluster' e calculamos as médias de RFM e a contagem de clientes\n",
    "cluster_analysis = df_rfm.groupby('Cluster').agg(\n",
    "    Recencia_Media=('Recencia', 'mean'),\n",
    "    Frequencia_Media=('Frequencia', 'mean'),\n",
    "    ValorMonetario_Medio=('ValorMonetario', 'mean'),\n",
    "    Contagem_Clientes=('Recencia', 'count')\n",
    ").round(2)\n",
    "\n",
    "print(\"Análise dos Clusters:\")\n",
    "display(cluster_analysis)"
   ]
  },
  {
   "cell_type": "markdown",
   "id": "8538036c",
   "metadata": {},
   "source": [
    "Bloco 8: Mapeamento de Personas e Criação do Arquivo Mestre (Output)"
   ]
  },
  {
   "cell_type": "code",
   "execution_count": 8,
   "id": "8ca06e9e",
   "metadata": {},
   "outputs": [
    {
     "name": "stdout",
     "output_type": "stream",
     "text": [
      "Carregando o mapeamento de aliases de clientes...\n",
      "Arquivo final 'customers.parquet' criado com sucesso!\n"
     ]
    },
    {
     "data": {
      "text/html": [
       "<div>\n",
       "<style scoped>\n",
       "    .dataframe tbody tr th:only-of-type {\n",
       "        vertical-align: middle;\n",
       "    }\n",
       "\n",
       "    .dataframe tbody tr th {\n",
       "        vertical-align: top;\n",
       "    }\n",
       "\n",
       "    .dataframe thead th {\n",
       "        text-align: right;\n",
       "    }\n",
       "</style>\n",
       "<table border=\"1\" class=\"dataframe\">\n",
       "  <thead>\n",
       "    <tr style=\"text-align: right;\">\n",
       "      <th></th>\n",
       "      <th>id_cliente</th>\n",
       "      <th>nome_cliente</th>\n",
       "      <th>segmento</th>\n",
       "      <th>prob_compra_7d</th>\n",
       "      <th>prob_compra_30d</th>\n",
       "      <th>sugestao_prox_produto</th>\n",
       "      <th>data_prox_viagem</th>\n",
       "    </tr>\n",
       "  </thead>\n",
       "  <tbody>\n",
       "    <tr>\n",
       "      <th>0</th>\n",
       "      <td>00007a5d618cd250d7f05766cfe01a8663a3767f1cd669...</td>\n",
       "      <td>Maria Flor Fonseca</td>\n",
       "      <td>Campeões</td>\n",
       "      <td>0.0</td>\n",
       "      <td>0.0</td>\n",
       "      <td>Aguardando recomendação</td>\n",
       "      <td>Aguardando previsão</td>\n",
       "    </tr>\n",
       "    <tr>\n",
       "      <th>1</th>\n",
       "      <td>00026c6e9ff2f6387766bc6b4b4f1d1a282c60c9976064...</td>\n",
       "      <td>Gabrielly Vasconcelos</td>\n",
       "      <td>Campeões</td>\n",
       "      <td>0.0</td>\n",
       "      <td>0.0</td>\n",
       "      <td>Aguardando recomendação</td>\n",
       "      <td>Aguardando previsão</td>\n",
       "    </tr>\n",
       "    <tr>\n",
       "      <th>2</th>\n",
       "      <td>00026fad47197aa4c6ee22af325a80bf1001209f21021d...</td>\n",
       "      <td>Mathias Caldeira</td>\n",
       "      <td>Campeões</td>\n",
       "      <td>0.0</td>\n",
       "      <td>0.0</td>\n",
       "      <td>Aguardando recomendação</td>\n",
       "      <td>Aguardando previsão</td>\n",
       "    </tr>\n",
       "    <tr>\n",
       "      <th>3</th>\n",
       "      <td>0002b73c84f0f22a291226e3aec6596de90488f776ef23...</td>\n",
       "      <td>Erick Ribeiro</td>\n",
       "      <td>Fiéis</td>\n",
       "      <td>0.0</td>\n",
       "      <td>0.0</td>\n",
       "      <td>Aguardando recomendação</td>\n",
       "      <td>Aguardando previsão</td>\n",
       "    </tr>\n",
       "    <tr>\n",
       "      <th>4</th>\n",
       "      <td>0003a32718f6bcdb2bf379f645c23e13f56b7b1d43d953...</td>\n",
       "      <td>João Lucas da Cunha</td>\n",
       "      <td>Campeões</td>\n",
       "      <td>0.0</td>\n",
       "      <td>0.0</td>\n",
       "      <td>Aguardando recomendação</td>\n",
       "      <td>Aguardando previsão</td>\n",
       "    </tr>\n",
       "  </tbody>\n",
       "</table>\n",
       "</div>"
      ],
      "text/plain": [
       "                                          id_cliente           nome_cliente  \\\n",
       "0  00007a5d618cd250d7f05766cfe01a8663a3767f1cd669...     Maria Flor Fonseca   \n",
       "1  00026c6e9ff2f6387766bc6b4b4f1d1a282c60c9976064...  Gabrielly Vasconcelos   \n",
       "2  00026fad47197aa4c6ee22af325a80bf1001209f21021d...       Mathias Caldeira   \n",
       "3  0002b73c84f0f22a291226e3aec6596de90488f776ef23...          Erick Ribeiro   \n",
       "4  0003a32718f6bcdb2bf379f645c23e13f56b7b1d43d953...    João Lucas da Cunha   \n",
       "\n",
       "   segmento  prob_compra_7d  prob_compra_30d    sugestao_prox_produto  \\\n",
       "0  Campeões             0.0              0.0  Aguardando recomendação   \n",
       "1  Campeões             0.0              0.0  Aguardando recomendação   \n",
       "2  Campeões             0.0              0.0  Aguardando recomendação   \n",
       "3     Fiéis             0.0              0.0  Aguardando recomendação   \n",
       "4  Campeões             0.0              0.0  Aguardando recomendação   \n",
       "\n",
       "      data_prox_viagem  \n",
       "0  Aguardando previsão  \n",
       "1  Aguardando previsão  \n",
       "2  Aguardando previsão  \n",
       "3  Aguardando previsão  \n",
       "4  Aguardando previsão  "
      ]
     },
     "metadata": {},
     "output_type": "display_data"
    }
   ],
   "source": [
    "print(\"Carregando o mapeamento de aliases de clientes...\")\n",
    "with open('../data/processed/mapa_clientes_alias.json', 'r') as f:\n",
    "    mapa_clientes = json.load(f)\n",
    "\n",
    "# Criando o dicionário de mapeamento com os nomes das personas\n",
    "# (Ajuste os números do cluster (0, 1, 2, 3) conforme a sua análise do Bloco 7)\n",
    "mapeamento_clusters = {\n",
    "    1: \"Campeões\",   \n",
    "    0: \"Fiéis\",\n",
    "    3: \"Em Risco\",  \n",
    "    2: \"Perdidos\"       \n",
    "}\n",
    "\n",
    "# Criando a coluna 'segmento' com os nomes das personas\n",
    "df_rfm['segmento'] = df_rfm['Cluster'].map(mapeamento_clusters)\n",
    "\n",
    "# Preparando o DataFrame para salvar (resetando o índice para usar o 'fk_contact' como coluna)\n",
    "df_final_customers = df_rfm.reset_index().rename(columns={'fk_contact': 'id_cliente'})\n",
    "\n",
    "# Usando o mapa de aliases para criar a coluna de nome do cliente\n",
    "df_final_customers['nome_cliente'] = df_final_customers['id_cliente'].map(mapa_clientes)\n",
    "\n",
    "# Adicionando colunas de placeholder que serão preenchidas nos próximos notebooks\n",
    "df_final_customers['prob_compra_7d'] = 0.0\n",
    "df_final_customers['prob_compra_30d'] = 0.0\n",
    "df_final_customers['sugestao_prox_produto'] = \"Aguardando recomendação\"\n",
    "df_final_customers['data_prox_viagem'] = \"Aguardando previsão\"\n",
    "\n",
    "# Selecionando e ordenando as colunas finais para o arquivo mestre\n",
    "colunas_finais = [\n",
    "    'id_cliente', \n",
    "    'nome_cliente', \n",
    "    'segmento',\n",
    "    'prob_compra_7d',\n",
    "    'prob_compra_30d', \n",
    "    'sugestao_prox_produto', \n",
    "    'data_prox_viagem'\n",
    "]\n",
    "df_final_customers = df_final_customers[colunas_finais]\n",
    "\n",
    "# Salvando o arquivo mestre\n",
    "caminho_customers = '../data/redis/customers.parquet'\n",
    "df_final_customers.to_parquet(caminho_customers, index=False)\n",
    "\n",
    "print(f\"Arquivo final 'customers.parquet' criado com sucesso!\")\n",
    "display(df_final_customers.head())"
   ]
  }
 ],
 "metadata": {
  "kernelspec": {
   "display_name": ".venv",
   "language": "python",
   "name": "python3"
  },
  "language_info": {
   "codemirror_mode": {
    "name": "ipython",
    "version": 3
   },
   "file_extension": ".py",
   "mimetype": "text/x-python",
   "name": "python",
   "nbconvert_exporter": "python",
   "pygments_lexer": "ipython3",
   "version": "3.10.12"
  }
 },
 "nbformat": 4,
 "nbformat_minor": 5
}
