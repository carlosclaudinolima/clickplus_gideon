{
 "cells": [
  {
   "cell_type": "code",
   "execution_count": 1,
   "id": "38a280f6",
   "metadata": {},
   "outputs": [
    {
     "name": "stdout",
     "output_type": "stream",
     "text": [
      "Collecting Faker\n",
      "  Downloading faker-37.6.0-py3-none-any.whl (1.9 MB)\n",
      "\u001b[2K     \u001b[90m━━━━━━━━━━━━━━━━━━━━━━━━━━━━━━━━━━━━━━━━\u001b[0m \u001b[32m1.9/1.9 MB\u001b[0m \u001b[31m5.2 MB/s\u001b[0m eta \u001b[36m0:00:00\u001b[0ma \u001b[36m0:00:01\u001b[0m\n",
      "\u001b[?25hRequirement already satisfied: tzdata in /home/ninja/Documentos/clickbuproto/.venv/lib/python3.10/site-packages (from Faker) (2025.2)\n",
      "Installing collected packages: Faker\n",
      "Successfully installed Faker-37.6.0\n"
     ]
    }
   ],
   "source": [
    "import sys\n",
    "!{sys.executable} -m pip install Faker"
   ]
  },
  {
   "cell_type": "markdown",
   "id": "058d917e",
   "metadata": {},
   "source": [
    "Bloco 1: Instalar e Importar Faker\n"
   ]
  },
  {
   "cell_type": "code",
   "execution_count": 1,
   "id": "af3119e3",
   "metadata": {},
   "outputs": [
    {
     "name": "stdout",
     "output_type": "stream",
     "text": [
      "Mapeamento para 101458 clientes criado e salvo.\n",
      "Mapeamento para 2319 locais criado e salvo.\n"
     ]
    }
   ],
   "source": [
    "import pandas as pd\n",
    "from faker import Faker\n",
    "import json\n",
    "\n",
    "# Inicializa o Faker em português do Brasil\n",
    "fake = Faker('pt_BR')\n",
    "\n",
    "\n",
    "# Bloco 2: Criar Mapeamento para Nomes de Clientes\n",
    "\n",
    "df_clientes = pd.read_csv('../data/raw/clientes_unicos.csv')\n",
    "# Gera um nome fictício para cada hash de cliente\n",
    "df_clientes['nome_alias'] = [fake.name() for _ in range(len(df_clientes))]\n",
    "# Cria o dicionário de mapeamento: {hash: nome}\n",
    "mapa_clientes = pd.Series(df_clientes.nome_alias.values, index=df_clientes.fk_contact).to_dict()\n",
    "\n",
    "# Salva o mapeamento em um arquivo JSON para ser usado depois\n",
    "with open('../data/processed/mapa_clientes_alias.json', 'w') as f:\n",
    "    json.dump(mapa_clientes, f)\n",
    "\n",
    "print(f\"Mapeamento para {len(mapa_clientes)} clientes criado e salvo.\")\n",
    "\n",
    "\n",
    "# Bloco 3: Criar Mapeamento para Nomes de Locais\n",
    "\n",
    "df_locais = pd.read_csv('../data/raw/locais_unicos.csv')\n",
    "# Gera uma cidade fictícia para cada hash de local\n",
    "df_locais['cidade_alias'] = [fake.city() for _ in range(len(df_locais))]\n",
    "# Cria o dicionário de mapeamento: {hash: cidade}\n",
    "mapa_locais = pd.Series(df_locais.cidade_alias.values, index=df_locais.place_hash).to_dict()\n",
    "\n",
    "# Salva o mapeamento em um arquivo JSON\n",
    "with open('../data/processed/mapa_locais_alias.json', 'w') as f:\n",
    "    json.dump(mapa_locais, f)\n",
    "\n",
    "print(f\"Mapeamento para {len(mapa_locais)} locais criado e salvo.\")"
   ]
  }
 ],
 "metadata": {
  "kernelspec": {
   "display_name": ".venv",
   "language": "python",
   "name": "python3"
  },
  "language_info": {
   "codemirror_mode": {
    "name": "ipython",
    "version": 3
   },
   "file_extension": ".py",
   "mimetype": "text/x-python",
   "name": "python",
   "nbconvert_exporter": "python",
   "pygments_lexer": "ipython3",
   "version": "3.10.12"
  }
 },
 "nbformat": 4,
 "nbformat_minor": 5
}
