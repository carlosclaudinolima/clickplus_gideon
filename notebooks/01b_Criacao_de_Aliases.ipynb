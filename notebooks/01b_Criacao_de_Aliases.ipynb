{
 "cells": [
  {
   "cell_type": "code",
   "execution_count": null,
   "id": "38a280f6",
   "metadata": {},
   "outputs": [],
   "source": [
    "import sys\n",
    "!{sys.executable} -m pip install Faker"
   ]
  },
  {
   "cell_type": "markdown",
   "id": "058d917e",
   "metadata": {},
   "source": [
    "Bloco 1: Instalar e Importar Faker\n"
   ]
  },
  {
   "cell_type": "code",
   "execution_count": null,
   "id": "af3119e3",
   "metadata": {},
   "outputs": [],
   "source": [
    "import pandas as pd\n",
    "from faker import Faker\n",
    "import json\n",
    "\n",
    "# Inicializa o Faker em português do Brasil\n",
    "fake = Faker('pt_BR')\n",
    "\n",
    "\n",
    "# Bloco 2: Criar Mapeamento para Nomes de Clientes\n",
    "\n",
    "df_clientes = pd.read_csv('../data/raw/clientes_unicos.csv')\n",
    "# Gera um nome fictício para cada hash de cliente\n",
    "df_clientes['nome_alias'] = [fake.name() for _ in range(len(df_clientes))]\n",
    "# Cria o dicionário de mapeamento: {hash: nome}\n",
    "mapa_clientes = pd.Series(df_clientes.nome_alias.values, index=df_clientes.fk_contact).to_dict()\n",
    "\n",
    "# Salva o mapeamento em um arquivo JSON para ser usado depois\n",
    "with open('../data/processed/mapa_clientes_alias.json', 'w') as f:\n",
    "    json.dump(mapa_clientes, f)\n",
    "\n",
    "print(f\"Mapeamento para {len(mapa_clientes)} clientes criado e salvo.\")\n",
    "\n",
    "\n",
    "# Bloco 3: Criar Mapeamento para Nomes de Locais\n",
    "\n",
    "df_locais = pd.read_csv('../data/raw/locais_unicos.csv')\n",
    "# Gera uma cidade fictícia para cada hash de local\n",
    "df_locais['cidade_alias'] = [fake.city() for _ in range(len(df_locais))]\n",
    "# Cria o dicionário de mapeamento: {hash: cidade}\n",
    "mapa_locais = pd.Series(df_locais.cidade_alias.values, index=df_locais.place_hash).to_dict()\n",
    "\n",
    "# Salva o mapeamento em um arquivo JSON\n",
    "with open('../data/processed/mapa_locais_alias.json', 'w') as f:\n",
    "    json.dump(mapa_locais, f)\n",
    "\n",
    "print(f\"Mapeamento para {len(mapa_locais)} locais criado e salvo.\")"
   ]
  }
 ],
 "metadata": {
  "kernelspec": {
   "display_name": ".venv",
   "language": "python",
   "name": "python3"
  },
  "language_info": {
   "codemirror_mode": {
    "name": "ipython",
    "version": 3
   },
   "file_extension": ".py",
   "mimetype": "text/x-python",
   "name": "python",
   "nbconvert_exporter": "python",
   "pygments_lexer": "ipython3",
   "version": "3.10.12"
  }
 },
 "nbformat": 4,
 "nbformat_minor": 5
}
